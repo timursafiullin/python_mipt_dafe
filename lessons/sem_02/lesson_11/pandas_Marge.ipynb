{
 "cells": [
  {
   "cell_type": "markdown",
   "id": "783492c5",
   "metadata": {},
   "source": [
    "# Семинар по pandas: merge и groupby"
   ]
  },
  {
   "cell_type": "markdown",
   "id": "81109227",
   "metadata": {},
   "source": [
    "Не забудьте отправить решения задач в систему Яндекс.Контест:\n",
    "- [Контест](https://contest.yandex.ru/contest/77201/enter) для 413 группы;\n",
    "- [Контест](https://contest.yandex.ru/contest/77202/enter) для 414 группы;\n",
    "- [Контест](https://contest.yandex.ru/contest/77203/enter) для 415 группы;\n",
    "- [Контест](https://contest.yandex.ru/contest/77203/enter) для 416 группы;\n",
    "\n",
    "В этом семинаре мы подробно разберем, как использовать функции `merge` и `groupby` в pandas. Также рассмотрим практические примеры работы с группами и модификации данных на их основе.\n",
    "\n",
    "Перед началом установите библиотеку `kagglehub` и `tqdm`"
   ]
  },
  {
   "cell_type": "code",
   "execution_count": null,
   "id": "afecbb6a",
   "metadata": {},
   "outputs": [],
   "source": [
    "# Загрузка датасета с помощью kagglehub\n",
    "import os\n",
    "import pandas as pd\n",
    "import kagglehub\n",
    "\n",
    "# Загрузка последней версии датасета\n",
    "path = kagglehub.dataset_download(\"ersany/online-retail-dataset\")\n",
    "print(\"Path to dataset files:\", path)\n",
    "\n",
    "# Чтение Excel-файла\n",
    "df = pd.read_excel(os.path.join(path, \"Online Retail.xlsx\"))\n",
    "df.head()"
   ]
  },
  {
   "cell_type": "markdown",
   "id": "fd29a6f4",
   "metadata": {},
   "source": [
    "## Функция `pd.concat()`\n",
    "`concat()` используется для объединения таблиц по строкам (`axis=0`) или по столбцам (`axis=1`).\n",
    "\n",
    "Можно использовать, когда нужно просто \"склеить\" таблицы без условия по ключам."
   ]
  },
  {
   "cell_type": "code",
   "execution_count": null,
   "id": "50b3b695",
   "metadata": {},
   "outputs": [],
   "source": [
    "# Склеивание по строкам (axis=0)\n",
    "df1 = pd.DataFrame({'ID': [1, 2], 'Value': ['A', 'B']})\n",
    "df2 = pd.DataFrame({'ID': [3, 4], 'Value': ['C', 'D']})\n",
    "display(df1)\n",
    "display(df2)\n",
    "res12 = pd.concat([df1, df2], axis=0)\n",
    "res12\n"
   ]
  },
  {
   "cell_type": "markdown",
   "id": "8f95d57c",
   "metadata": {},
   "source": [
    "Правда теперь имеется нюанс - повторяющийся индекс. Иногда мы действительно хотим такое поведение. Напомним, что в первом семинаре при введении вас в объекты pandas вы узнали, что pd.Index - это мультимножество и допускает повторения."
   ]
  },
  {
   "cell_type": "code",
   "execution_count": null,
   "id": "d806d57b",
   "metadata": {},
   "outputs": [],
   "source": [
    "res12.loc[0]"
   ]
  },
  {
   "cell_type": "markdown",
   "id": "bbb72759",
   "metadata": {},
   "source": [
    "А если мы не хотим дубликаты индексов?\n",
    "\n",
    "Можно не дублировать, а игнорить индексы в каждом из объектов и собирать новый."
   ]
  },
  {
   "cell_type": "code",
   "execution_count": null,
   "id": "edcdadca",
   "metadata": {},
   "outputs": [],
   "source": [
    "# Объединение с повторяющимися индексами (можно сбросить индекс при необходимости)\n",
    "pd.concat([df1, df2], axis=0, ignore_index=True)"
   ]
  },
  {
   "cell_type": "markdown",
   "id": "addde6db",
   "metadata": {},
   "source": [
    "Ну и столбцы тоже можно склеивать."
   ]
  },
  {
   "cell_type": "code",
   "execution_count": null,
   "id": "bc48000d",
   "metadata": {},
   "outputs": [],
   "source": [
    "# Склеивание по столбцам (axis=1)\n",
    "df3 = pd.DataFrame({'A': [1, 2]})\n",
    "df4 = pd.DataFrame({'B': ['X', 'Y']})\n",
    "display(df3)\n",
    "display(df4)\n",
    "pd.concat([df3, df4], axis=1)\n"
   ]
  },
  {
   "cell_type": "markdown",
   "id": "b57e1bed",
   "metadata": {},
   "source": [
    "## Метод `.join()` в pandas\n",
    "Метод `join()` используется для объединения DataFrame по их индексам.\n"
   ]
  },
  {
   "cell_type": "code",
   "execution_count": null,
   "id": "1f3c383b",
   "metadata": {},
   "outputs": [],
   "source": [
    "# Подготовим две таблицы для демонстрации\n",
    "left = pd.DataFrame({\n",
    "    'CustomerID': [1, 2, 3],\n",
    "    'Name': ['Alice', 'Bob', 'Charlie']\n",
    "})\n",
    "\n",
    "right = pd.DataFrame({\n",
    "    'CustomerID': [2, 3, 4],\n",
    "    'Country': ['UK', 'Germany', 'France']\n",
    "})\n",
    "\n",
    "display(left)\n",
    "display(right)"
   ]
  },
  {
   "cell_type": "code",
   "execution_count": null,
   "id": "71d85010",
   "metadata": {},
   "outputs": [],
   "source": [
    "# Пример использования join\n",
    "left_indexed = left.set_index('CustomerID')\n",
    "right_indexed = right.set_index('CustomerID')\n",
    "display(left_indexed)\n",
    "display(right_indexed)\n",
    "\n",
    "joined = left_indexed.join(right_indexed, how='left')\n",
    "joined"
   ]
  },
  {
   "cell_type": "markdown",
   "id": "25b1e345",
   "metadata": {},
   "source": [
    "Здесь важно заметить, мы нигде явно не указали, как объединить наши данные. Так как оба имею совпадающий индекс, по которому и производится объединение."
   ]
  },
  {
   "cell_type": "markdown",
   "id": "8a221de0",
   "metadata": {},
   "source": [
    "## Функция `merge` — объединение таблиц\n",
    "Позволяет производить объединения по различным столбцам.\n",
    "\n",
    "В pandas функция `merge`, также как и `join`, позволяет использовать разные стратегии объединения таблиц: `inner`, `left`, `right`, `outer`.\n",
    "\n",
    "![](media/join_types_sql.png)"
   ]
  },
  {
   "cell_type": "code",
   "execution_count": null,
   "id": "2ad74fbc",
   "metadata": {},
   "outputs": [],
   "source": [
    "inner = pd.merge(left, right, left_on='CustomerID', right_on='CustomerID', how='inner')\n",
    "inner"
   ]
  },
  {
   "cell_type": "code",
   "execution_count": null,
   "id": "e98c53f4",
   "metadata": {},
   "outputs": [],
   "source": [
    "# В случае, если ключи называются одинаково, можно указать его только один раз\n",
    "inner = pd.merge(left, right, on='CustomerID', how='inner')\n",
    "inner"
   ]
  },
  {
   "cell_type": "code",
   "execution_count": null,
   "id": "957f3a3e",
   "metadata": {},
   "outputs": [],
   "source": [
    "# LEFT JOIN: все строки из левой таблицы + совпадающие из правой\n",
    "left_join = pd.merge(left, right, on='CustomerID', how='left')\n",
    "left_join"
   ]
  },
  {
   "cell_type": "code",
   "execution_count": null,
   "id": "054c5337",
   "metadata": {},
   "outputs": [],
   "source": [
    "# RIGHT JOIN: все строки из правой таблицы + совпадающие из левой\n",
    "right_join = pd.merge(left, right, on='CustomerID', how='right')\n",
    "right_join"
   ]
  },
  {
   "cell_type": "code",
   "execution_count": null,
   "id": "58cd9fdf",
   "metadata": {},
   "outputs": [],
   "source": [
    "# OUTER JOIN: все строки из обеих таблиц, пропущенные значения заменяются на NaN\n",
    "outer = pd.merge(left, right, on='CustomerID', how='outer')\n",
    "outer"
   ]
  },
  {
   "cell_type": "markdown",
   "id": "657a341e",
   "metadata": {},
   "source": [
    "### Разница между `merge()` и `join()`\n",
    "\n",
    "Обе функции объединяют таблицы, но между ними есть важные различия:\n",
    "\n",
    "#### `merge()` — универсальный инструмент\n",
    "- Явно указываются ключевые столбцы с помощью `on`, `left_on`, `right_on`.\n",
    "- Работает по значениям **столбцов**, а не индексов.\n",
    "- Может объединять по разным столбцам в разных таблицах.\n",
    "- Возвращает новый DataFrame с переиндексацией.\n",
    "- Позволяет точно контролировать поведение при неуникальных ключах и коллизиях.\n",
    "\n",
    "**Пример:**\n",
    "```python\n",
    "pd.merge(df1, df2, left_on='A', right_on='B', how='left')\n",
    "```\n",
    "\n",
    "---\n",
    "\n",
    "#### `join()` — короче, но ограничен\n",
    "- По умолчанию объединяет по **индексу правого DataFrame**.\n",
    "- Удобен, если таблицы уже индексированы нужным образом.\n",
    "- Менее гибкий: нельзя указать разные столбцы для объединения (как `left_on` и `right_on`).\n",
    "- Может быть менее читаем в сложных кейсах.\n",
    "\n",
    "**Пример:**\n",
    "```python\n",
    "df1.set_index('ID').join(df2.set_index('ID'))\n",
    "```\n",
    "\n",
    "---\n",
    "\n",
    "#### Вывод:\n",
    "- Используй `merge()` — когда нужна гибкость и точный контроль.\n",
    "- Используй `join()` — если работаешь с индексами и хочешь короткий код."
   ]
  },
  {
   "cell_type": "markdown",
   "id": "9c891b0d",
   "metadata": {},
   "source": [
    "## Функция `groupby` — группировка и агрегирование данных"
   ]
  },
  {
   "cell_type": "code",
   "execution_count": null,
   "id": "1b3eba20",
   "metadata": {},
   "outputs": [],
   "source": [
    "# Группируем по столбцу 'Country'\n",
    "grouped = df.groupby('Country')\n",
    "\n",
    "# Тип объекта\n",
    "print(\"Тип объекта:\", type(grouped))\n",
    "\n",
    "# Получение списка групп\n",
    "print(\"Группы:\", grouped.groups.keys())\n",
    "\n",
    "# Получение конкретной группы\n",
    "group_uk = grouped.get_group('United Kingdom')\n",
    "print(\"Размер группы 'United Kingdom':\", group_uk.shape)\n",
    "\n",
    "# Итерация по группам (ключ, подтаблица)\n",
    "for name, group in list(grouped)[:2]:\n",
    "    print(f\"\\nГруппа: {name}, Размер: {group.shape}\")\n",
    "    display(group.head(2))\n"
   ]
  },
  {
   "cell_type": "code",
   "execution_count": null,
   "id": "b71a7ada",
   "metadata": {},
   "outputs": [],
   "source": [
    "# Количество уникальных заказов по странам\n",
    "df.groupby('Country')['InvoiceNo'].nunique().sort_values(ascending=False).head()"
   ]
  },
  {
   "cell_type": "code",
   "execution_count": null,
   "id": "8ef59e30",
   "metadata": {},
   "outputs": [],
   "source": [
    "# Общая сумма продаж по странам\n",
    "df['TotalPrice'] = df['Quantity'] * df['UnitPrice']\n",
    "df.groupby('Country')['TotalPrice'].sum().sort_values(ascending=False).head()"
   ]
  },
  {
   "cell_type": "markdown",
   "id": "ca699fd8",
   "metadata": {},
   "source": [
    "### Немного про агрегирующие функции (опять)\n",
    "\n",
    "#### Метод `.agg()`\n",
    "\n",
    "Метод `.agg()` (aggregate) используется после `groupby()` для применения одной или нескольких функций к колонкам."
   ]
  },
  {
   "cell_type": "code",
   "execution_count": null,
   "id": "c84bb1f5",
   "metadata": {},
   "outputs": [],
   "source": [
    "df.groupby('Country')['Quantity'].agg(sum).head()"
   ]
  },
  {
   "cell_type": "code",
   "execution_count": null,
   "id": "1bfe46ca",
   "metadata": {},
   "outputs": [],
   "source": [
    "# Можно применять несколько функций одновременно\n",
    "df.groupby('Country')['Quantity'].agg(['sum', 'mean', 'std']).head()"
   ]
  },
  {
   "cell_type": "code",
   "execution_count": null,
   "id": "d3a3835a",
   "metadata": {},
   "outputs": [],
   "source": [
    "# Можно применять разные функции к разным колонкам\n",
    "df.groupby('Country').agg({\n",
    "    'InvoiceNo': 'nunique',\n",
    "    'Quantity': 'sum'\n",
    "}).head()"
   ]
  },
  {
   "cell_type": "code",
   "execution_count": null,
   "id": "8b755c07",
   "metadata": {},
   "outputs": [],
   "source": [
    "# Агрегация с использованием нескольких функций и колонок\n",
    "df.groupby('Country').agg({\n",
    "    'InvoiceNo': 'nunique',\n",
    "    'Quantity': 'sum',\n",
    "    'TotalPrice': ['sum', 'mean']\n",
    "}).head()"
   ]
  },
  {
   "cell_type": "code",
   "execution_count": null,
   "id": "ac751ea7",
   "metadata": {},
   "outputs": [],
   "source": [
    "# Агрегация с использованием пользовательской функции\n",
    "# На вход принимает Series, на выход - одно значение\n",
    "\n",
    "def range_price(x):\n",
    "    return x.max() - x.min()\n",
    "\n",
    "df.groupby('Country').agg({\n",
    "    'UnitPrice': range_price\n",
    "}).head()"
   ]
  },
  {
   "cell_type": "code",
   "execution_count": null,
   "id": "d03dc624",
   "metadata": {},
   "outputs": [],
   "source": [
    "df.groupby('Country').agg({\n",
    "    \"TotalPrice\": [('SummedPrice', 'sum')],\n",
    "    \"UnitPrice\": [('AvgPrice', 'mean')],\n",
    "    \"InvoiceNo\": [('NumberOfUniqueOrders', 'nunique')]\n",
    "}).head()\n"
   ]
  },
  {
   "cell_type": "markdown",
   "id": "0e51b8c6",
   "metadata": {},
   "source": [
    "### Пример, почему группировка - круто.\n",
    "Преобразование цен для каждого StockCode на 10% выше средней."
   ]
  },
  {
   "cell_type": "markdown",
   "id": "a58a3729",
   "metadata": {},
   "source": [
    "### Вариант 1: Цикл по уникальным StockCode"
   ]
  },
  {
   "cell_type": "code",
   "execution_count": null,
   "id": "6ab9622d",
   "metadata": {},
   "outputs": [],
   "source": [
    "df1 = df.copy()\n",
    "for code in df1['StockCode'].unique():\n",
    "    mask = df1['StockCode'] == code\n",
    "    mean_price = df1.loc[mask, 'UnitPrice'].mean()\n",
    "    df1.loc[mask, 'UnitPrice'] = mean_price * 1.1\n",
    "df1[['StockCode', 'UnitPrice']].head()"
   ]
  },
  {
   "cell_type": "markdown",
   "id": "3c2542cc",
   "metadata": {},
   "source": [
    "Эта ячейка работает противно долго, прям ужасно. Её даже в образовательных целях запускать не хочется."
   ]
  },
  {
   "cell_type": "markdown",
   "id": "6540ca48",
   "metadata": {},
   "source": [
    "### Вариант 2: Используем groupby и преобразуем каждую группу"
   ]
  },
  {
   "cell_type": "code",
   "execution_count": null,
   "id": "69e0b03e",
   "metadata": {},
   "outputs": [],
   "source": [
    "df2 = df.copy()\n",
    "df2['UnitPrice'] = df2.groupby('StockCode')['UnitPrice'].transform(lambda x: x.mean() * 1.1)\n",
    "df2[['StockCode', 'UnitPrice']].head()"
   ]
  },
  {
   "cell_type": "markdown",
   "id": "b7397a7b",
   "metadata": {},
   "source": [
    "А вот это уже по нашенски. И быстро, и то что надо, без циклов, красиво, понятно, вообще здорово."
   ]
  },
  {
   "cell_type": "markdown",
   "id": "6ece3daf",
   "metadata": {},
   "source": [
    "### Вариант 3: Используем apply для групп"
   ]
  },
  {
   "cell_type": "code",
   "execution_count": null,
   "id": "5cae07e0",
   "metadata": {},
   "outputs": [],
   "source": [
    "df3 = df.copy()\n",
    "\n",
    "def adjust_price(group):\n",
    "    # Функция принимает группу строк с одинаковым StockCode\n",
    "    # и возвращает ту же группу с измененными значениями UnitPrice\n",
    "    # Все строки в группе будут иметь UnitPrice, равный\n",
    "    # средней цене группы, умноженной на 1.1\n",
    "    group = group.copy()\n",
    "    group['UnitPrice'] = group['UnitPrice'].mean() * 1.1\n",
    "    return group\n",
    "\n",
    "# group_keys=False - чтобы не создавать новый индекс\n",
    "# почему важно - советую посмотреть в документации\n",
    "df3 = df3.groupby('StockCode', group_keys=False).apply(adjust_price)\n",
    "df3[['StockCode', 'UnitPrice']].head()"
   ]
  },
  {
   "cell_type": "markdown",
   "id": "0d6c9d78",
   "metadata": {},
   "source": [
    "### Вариант 4: Используем tqdm и progress_apply"
   ]
  },
  {
   "cell_type": "code",
   "execution_count": null,
   "id": "0229c367",
   "metadata": {},
   "outputs": [],
   "source": [
    "from tqdm import tqdm\n",
    "tqdm.pandas()\n",
    "\n",
    "df4 = df.copy()\n",
    "df4 = df4.groupby('StockCode', group_keys=False).progress_apply(adjust_price)\n",
    "df4[['StockCode', 'UnitPrice']].head()"
   ]
  },
  {
   "cell_type": "markdown",
   "id": "a1d9b3df",
   "metadata": {},
   "source": [
    "## Рубрика Домашка"
   ]
  },
  {
   "cell_type": "markdown",
   "id": "9ac84696",
   "metadata": {},
   "source": [
    "Задачи:\n",
    "- Изменяем цены\n",
    "  - объединить страны в группы по первой букве страны (Australia, Austria; Belgium, Brazil и тд)\n",
    "  - В группе с первой буквой \"A\" поднять цену на максимальную цену товарав группе\n",
    "  - В группе с первой буквой \"B\" цену уменьшить на половину минимальной\n",
    "  - В остальных группах цены увеличить на 10% от текущей цены объекта\n",
    "\n",
    "- Сложные изменения цены\n",
    "  - Сгрупируйте товары по странам\n",
    "  - Каждую группу увеличьте в два раза по следующему правилу:\n",
    "    - Увеличьте все цены в 2 раза и переименнуйте страну в country_name+\"_bad_times\"\n",
    "    - Уменьшите все цены на 15% от средней цены (но чтоб цены были не меньше текущего минимума, все что меньше делаем равным текущему минимуму) и переименнуйте страну в country_name+\"_great_times\"\n",
    "\n",
    "- Поиск акул рынка\n",
    "  - Постройте отдельную таблицу пкупатель - число заказов `['CustomerID', 'NumOrders']`\n",
    "  - Найдите самых активных (число заказов больше, чем у 95% всех покупателей)\n",
    "  - Из основной таблицы выберете только информацию о наших акулах\n",
    "  - Для каждого подсчитайте, сколько суммарно в каждой из стран было потрачено $ (оформить в виде таблицы с колонками CustomerID и нразваниями стран)\n",
    "  - Найти гениев, которые покупали в нескольких странах\n",
    "  - (подсказка: unstack, reset_index, columns.name = None)"
   ]
  },
  {
   "cell_type": "code",
   "execution_count": null,
   "id": "5843a6d6",
   "metadata": {},
   "outputs": [],
   "source": [
    "# Если не понятно что и как делать - спрашивайте"
   ]
  },
  {
   "cell_type": "code",
   "execution_count": null,
   "id": "57ab29f9",
   "metadata": {},
   "outputs": [],
   "source": []
  }
 ],
 "metadata": {
  "kernelspec": {
   "display_name": "Python 3",
   "language": "python",
   "name": "python3"
  },
  "language": "python",
  "language_info": {
   "codemirror_mode": {
    "name": "ipython",
    "version": 3
   },
   "file_extension": ".py",
   "mimetype": "text/x-python",
   "name": "python",
   "nbconvert_exporter": "python",
   "pygments_lexer": "ipython3",
   "version": "3.11.9"
  }
 },
 "nbformat": 4,
 "nbformat_minor": 5
}
