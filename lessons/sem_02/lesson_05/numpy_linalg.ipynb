{
 "cells": [
  {
   "cell_type": "markdown",
   "metadata": {},
   "source": [
    "# Линейная алгебра в NumPy\n",
    "\n",
    "Не забудьте отправить решения задач в систему Яндекс.Контест:\n",
    "- [Контест](https://contest.yandex.ru/contest/75563/enter) для 413 группы;\n",
    "- [Контест](https://contest.yandex.ru/contest/75564/enter) для 414 группы;\n",
    "- [Контест](https://contest.yandex.ru/contest/75567/enter) для 415 группы;\n",
    "- [Контест](https://contest.yandex.ru/contest/75567/enter) для 416 группы;\n",
    "\n",
    "Очень часто различные научные вычисления и алгоритмы связаны с операциями линейной алгебры: перемножением матриц и векторов, вычислением обратных матриц и собственных значений матриц, осуществлением различных разложений матриц и т.д. Все эти операции играют важную роль, например, в методах оптимизации или в машинном обучении. Именно поэтому основные алгоритмы линейной алгебры были реализованы в виде специального подмодуля библиотеки NumPy - `linalg` (сокращение от *linear algebra*). В сегодняшнем семинаре мы посмотрим на некоторый функционал этого модуля.\n",
    "\n",
    "**Необходимые импорты:**"
   ]
  },
  {
   "cell_type": "code",
   "execution_count": 1,
   "metadata": {},
   "outputs": [],
   "source": [
    "import numpy as np"
   ]
  },
  {
   "cell_type": "markdown",
   "metadata": {},
   "source": [
    "Для воспроизводимости результатов, зафиксируем random-seed:"
   ]
  },
  {
   "cell_type": "code",
   "execution_count": 2,
   "metadata": {},
   "outputs": [],
   "source": [
    "np.random.seed(42)"
   ]
  },
  {
   "cell_type": "markdown",
   "metadata": {},
   "source": [
    "## Объединение и разбиение массивов\n",
    "\n",
    "Прежде чем перейти к изучению подмодуля `linalg`, рассмотрим пару полезных функций для объединения и разделения массивов. Эти функции могут оказаться полезными по ряду причин. В качестве яркого примера таких причин можно назвать оптимизацию вычислений. В случае, когда нам необходимо применить некоторую операцию к нескольким массивам, мы можем объединить исходные массивы в один большой массив, чтобы векторизовать вычисления и избежать использования медлительного цикла `for`. После применения желаемой операции к полученному массиву мы можем разбить итоговый массив на несколько массивов, которые будут являться результатом вычислений, примененных к соответствующим входным массивам. Также операции объединения массивов могут быть полезны непосредственно при решении задач линейной алгебры. Например, решая систему линейных уравнений, с помощью функций объединения массивов, вы сможете составить расширенную матрицу системы.\n",
    "\n",
    "### append\n",
    "\n",
    "В отличие от списков в Python, массивы в NumPy не определяют методы для добавления новых элементов в конец. Для того, чтобы добавить новые данные в конец массива NumPy придется использовать отдельную функций - `np.append`. В качестве параметров `np.append` принимает массив, в конец которого необходимо дописать данные, массив, который используется в качестве источника данных для дописывания, а также необязательный параметр `axis`, с которым мы познакомились на прошлом семинаре. Рассмотрим примеры использования `np.append`:"
   ]
  },
  {
   "cell_type": "code",
   "execution_count": 3,
   "metadata": {},
   "outputs": [
    {
     "name": "stdout",
     "output_type": "stream",
     "text": [
      "array_1d:\n",
      "[-4  9]\n",
      "\n",
      "array_2d:\n",
      "[[ 4  0]\n",
      " [-3 -4]]\n",
      "\n",
      "1D: append 1D:\n",
      "[-4  9 -4  9]\n",
      "\n",
      "1D: append 2D:\n",
      "[-4  9  4  0 -3 -4]\n",
      "\n",
      "2D: append rows:\n",
      "[[ 4  0]\n",
      " [-3 -4]\n",
      " [ 4  0]\n",
      " [-3 -4]]\n",
      "\n",
      "2D: append cols:\n",
      "[[ 4  0 -4]\n",
      " [-3 -4  9]]\n"
     ]
    }
   ],
   "source": [
    "array_1d = np.random.randint(-10, 10, size=2)\n",
    "array_2d = np.random.randint(-10, 10, size=(2, 2))\n",
    "\n",
    "print(\n",
    "    f\"array_1d:\\n{array_1d}\",\n",
    "    f\"array_2d:\\n{array_2d}\",\n",
    "    f\"1D: append 1D:\\n{np.append(array_1d, array_1d)}\",\n",
    "    f\"1D: append 2D:\\n{np.append(array_1d, array_2d)}\",\n",
    "    f\"2D: append rows:\\n{np.append(array_2d, array_2d, axis=0)}\",\n",
    "    f\"2D: append cols:\\n{np.append(array_2d, array_1d[..., np.newaxis], axis=1)}\",\n",
    "    sep=\"\\n\\n\",\n",
    ")"
   ]
  },
  {
   "cell_type": "markdown",
   "metadata": {},
   "source": [
    "На приведенных примерах можно пронаблюдать особенности функции `np.append`. Первая особенность, составляющая ключевое отличие от аналогичного метода списков в \"чистом\" Python, заключается в том, что `np.append` не применяется на месте. Т.е. в результате выполнения функции входные данные не модифицируются, а результат выполнения - новый объект в памяти."
   ]
  },
  {
   "cell_type": "code",
   "execution_count": 4,
   "metadata": {},
   "outputs": [
    {
     "name": "stdout",
     "output_type": "stream",
     "text": [
      "array_1d:\n",
      "[-4  9]\n",
      "\n",
      "array_appended:\n",
      "[-4  9 -4  9]\n",
      "\n",
      "is the same: False\n"
     ]
    }
   ],
   "source": [
    "array_appended = np.append(array_1d, array_1d)\n",
    "\n",
    "print(\n",
    "    f\"array_1d:\\n{array_1d}\",\n",
    "    f\"array_appended:\\n{array_appended}\",\n",
    "    f\"is the same: {array_1d is array_appended}\",\n",
    "    sep=\"\\n\\n\",\n",
    ")"
   ]
  },
  {
   "cell_type": "markdown",
   "metadata": {},
   "source": [
    "Следующая особенность состоит в возможности использования многомерных массивов и в качестве источника данных, и в качестве расширяемого массива. В случае если расширяемый массив является одномерным массивом, в результате выполнения функции все данные из второго массива будут дописаны в конец расширяемого массива. В этом случае поведение `np.append` можно сравнить с поведением метода списков `extend`.\n",
    "\n",
    "Если же переданные массивы многомерные, их размерности должны быть равными. Т.е. значения атрибутов `ndim` должны быть равны. Иначе `np.append` возбудит исключение. В случае использования многомерных массивов вы также получаете возможность использовать параметра `axis`, чтобы выбирать измерение, вдоль которого будут добавлены данные. По умолчанию массивы будут вытянуты в одномерный массив и объединены."
   ]
  },
  {
   "cell_type": "code",
   "execution_count": 5,
   "metadata": {},
   "outputs": [
    {
     "name": "stdout",
     "output_type": "stream",
     "text": [
      "[ 4  0 -3 -4  4  0 -3 -4]\n"
     ]
    }
   ],
   "source": [
    "print(np.append(array_2d, array_2d))"
   ]
  },
  {
   "cell_type": "markdown",
   "metadata": {},
   "source": [
    "### concatenate\n",
    "\n",
    "Следующая функция, позволяющая объединять массивы - `np.concatenate`. В отличие от `np.append`, `np.concatenate` позволяет объединить произвольное число массивов и при это явно задать порядок их объединения. В случае многомерных массивов размерности объединяемых массивов должны быть равны, иначе функция возбудит исключение. `np.concatenate`, также как и `np.append`, не модифицирует исходные данные. Однако в отличие от `np.append` `np.concatenate` не всегда создает новый объект в памяти: при передаче параметра `out` `np.concatenate` будет записывать результат в уже существующий в памяти объект."
   ]
  },
  {
   "cell_type": "code",
   "execution_count": 6,
   "metadata": {},
   "outputs": [
    {
     "name": "stdout",
     "output_type": "stream",
     "text": [
      "array_1d:\n",
      "[8 0]\n",
      "\n",
      "array_2d:\n",
      "[[ 0 -7]\n",
      " [-3 -8]]\n",
      "\n",
      "concatenate no axis:\n",
      "[ 8  0  0 -7 -3 -8]\n",
      "\n",
      "concatenate with axis:\n",
      "[[ 0 -7]\n",
      " [-3 -8]\n",
      " [ 8  0]]\n"
     ]
    }
   ],
   "source": [
    "array_1d = np.random.randint(-10, 10, size=2)\n",
    "array_2d = np.random.randint(-10, 10, size=(2, 2))\n",
    "\n",
    "print(\n",
    "    f\"array_1d:\\n{array_1d}\",\n",
    "    f\"array_2d:\\n{array_2d}\",\n",
    "    f\"concatenate no axis:\\n\"\n",
    "    f\"{np.concatenate((array_1d, array_2d), axis=None)}\",\n",
    "    f\"concatenate with axis:\\n\"\n",
    "    f\"{np.concatenate((array_2d, array_1d[np.newaxis, ...]), axis=0)}\",\n",
    "    sep=\"\\n\\n\",\n",
    ")"
   ]
  },
  {
   "cell_type": "markdown",
   "metadata": {},
   "source": [
    "Как вы видите, с помощью добавления новых размерностей и указания аргумента `axis` мы можем регулировать, как именно значения массивов будут объединяться, и какой формы будет результирующий массив. Однако при работе с матрицами нам не нужен такой уровень гибкости. В большинстве случаев нам будет необходимо или приписывать столбцы (`axis=1`), или приписывать строки (`axis=0`). Именно для таких случаев в NumPy были добавлены специализированные функции.\n",
    "\n",
    "### hstack и vstack\n",
    "\n",
    "Пара функций `np.hstack` (сокращение от *horizontal stacking*) и `np.vstack` (аналогично, *vertical stacking*) позволяют дописывать строки и столбцы соответственно."
   ]
  },
  {
   "cell_type": "code",
   "execution_count": 6,
   "metadata": {},
   "outputs": [
    {
     "name": "stdout",
     "output_type": "stream",
     "text": [
      "array_1d:\n",
      "[8 0]\n",
      "\n",
      "array_2d:\n",
      "[[ 0 -7]\n",
      " [-3 -8]]\n",
      "\n",
      "hstack 1d to 2d:\n",
      "[[ 0 -7  8]\n",
      " [-3 -8  0]]\n",
      "\n",
      "hstack 2d to 1d:\n",
      "[[ 8  0 -7]\n",
      " [ 0 -3 -8]]\n",
      "\n",
      "vstack 1d to 2d:\n",
      "[[ 0 -7]\n",
      " [-3 -8]\n",
      " [ 8  0]]\n",
      "\n",
      "vstack 2d to 1d:\n",
      "[[ 8  0]\n",
      " [ 0 -7]\n",
      " [-3 -8]]\n"
     ]
    }
   ],
   "source": [
    "array_1d = np.random.randint(-10, 10, size=2)\n",
    "array_2d = np.random.randint(-10, 10, size=(2, 2))\n",
    "\n",
    "print(\n",
    "    f\"array_1d:\\n{array_1d}\",\n",
    "    f\"array_2d:\\n{array_2d}\",\n",
    "    \"hstack 1d to 2d:\\n\"\n",
    "    f\"{np.hstack((array_2d, array_1d[..., np.newaxis]))}\",\n",
    "    \"hstack 2d to 1d:\\n\"\n",
    "    f\"{np.hstack((array_1d[..., np.newaxis], array_2d))}\",\n",
    "    \"vstack 1d to 2d:\\n\"\n",
    "    f\"{np.vstack((array_2d, array_1d))}\",\n",
    "    \"vstack 2d to 1d:\\n\"\n",
    "    f\"{np.vstack((array_1d, array_2d))}\",\n",
    "    sep=\"\\n\\n\",\n",
    ")"
   ]
  },
  {
   "cell_type": "markdown",
   "metadata": {},
   "source": [
    "### split\n",
    "\n",
    "Очевидно, если есть возможность слияние массивов в один, также существует возможность разделения одного массива на несколько массивов. Начнем с первого антипода - антипод функции `np.concatenate` - `np.split`. С помощью данной функции вы можете разбить переданный массив на несколько подмассивов по заданному правилу вдоль заданного направления."
   ]
  },
  {
   "cell_type": "code",
   "execution_count": 7,
   "metadata": {},
   "outputs": [],
   "source": [
    "def convert_npsplit_to_string(\n",
    "    parts: list[np.ndarray],\n",
    ") -> str:\n",
    "    return \",\\n\".join(\n",
    "        [str(part) for part in parts]\n",
    "    )"
   ]
  },
  {
   "cell_type": "code",
   "execution_count": 8,
   "metadata": {},
   "outputs": [
    {
     "name": "stdout",
     "output_type": "stream",
     "text": [
      "array:\n",
      "[[ -9   1  -5  -9]\n",
      " [-10   1   1   6]\n",
      " [ -1   5   4   4]\n",
      " [  8   1   9  -8]\n",
      " [ -6   8  -4  -2]\n",
      " [ -4   7  -7   3]]\n",
      "\n",
      "split-use-int-rule:\n",
      "[[ -9   1  -5  -9]\n",
      " [-10   1   1   6]],\n",
      "[[-1  5  4  4]\n",
      " [ 8  1  9 -8]],\n",
      "[[-6  8 -4 -2]\n",
      " [-4  7 -7  3]]\n",
      "\n",
      "split-use-slice-rule:\n",
      "[[-9  1 -5 -9]],\n",
      "[[-10   1   1   6]],\n",
      "[],\n",
      "[[-1  5  4  4]\n",
      " [ 8  1  9 -8]\n",
      " [-6  8 -4 -2]\n",
      " [-4  7 -7  3]]\n",
      "\n",
      "split-use-axis:\n",
      "[[ -9   1]\n",
      " [-10   1]\n",
      " [ -1   5]\n",
      " [  8   1]\n",
      " [ -6   8]\n",
      " [ -4   7]],\n",
      "[[-5 -9]\n",
      " [ 1  6]\n",
      " [ 4  4]\n",
      " [ 9 -8]\n",
      " [-4 -2]\n",
      " [-7  3]]\n"
     ]
    }
   ],
   "source": [
    "array = np.random.randint(-10, 10, size=(6, 4))\n",
    "\n",
    "print(\n",
    "    f\"array:\\n{array}\",\n",
    "    \"split-use-int-rule:\\n\"\n",
    "    f\"{convert_npsplit_to_string(np.split(array, 3))}\",\n",
    "    \"split-use-slice-rule:\\n\"\n",
    "    f\"{convert_npsplit_to_string(np.split(array, [1, 2, 2]))}\",\n",
    "    \"split-use-axis:\\n\"\n",
    "    f\"{convert_npsplit_to_string(np.split(array, 2, axis=1))}\",\n",
    "    sep=\"\\n\\n\",\n",
    ")"
   ]
  },
  {
   "cell_type": "markdown",
   "metadata": {},
   "source": [
    "### hsplit и vsplit\n",
    "\n",
    "Также аналоги-разделители определены и для функций `np.hstack` и `np.vstack` - `np.hsplit` и `np.vsplit`. Обе эти функции аналогичны функции `np.split` с фиксированным значением аргумента `axis`: `axis=0` для `vsplit`, `axis=1` для `hsplit`."
   ]
  },
  {
   "cell_type": "code",
   "execution_count": 9,
   "metadata": {},
   "outputs": [
    {
     "name": "stdout",
     "output_type": "stream",
     "text": [
      "array:\n",
      "[[ 7 -2 -9  9]\n",
      " [ 4 -4  1 -3]\n",
      " [ 4 -8  3  6]\n",
      " [-7  7 -3 -7]\n",
      " [-9 -5 -1 -7]\n",
      " [ 7  1 -9 -1]]\n",
      "\n",
      "vsplit:\n",
      "[[ 7 -2 -9  9]\n",
      " [ 4 -4  1 -3]],\n",
      "[[ 4 -8  3  6]\n",
      " [-7  7 -3 -7]],\n",
      "[[-9 -5 -1 -7]\n",
      " [ 7  1 -9 -1]]\n",
      "\n",
      "hsplit:\n",
      "[[ 7]\n",
      " [ 4]\n",
      " [ 4]\n",
      " [-7]\n",
      " [-9]\n",
      " [ 7]],\n",
      "[[-2 -9]\n",
      " [-4  1]\n",
      " [-8  3]\n",
      " [ 7 -3]\n",
      " [-5 -1]\n",
      " [ 1 -9]],\n",
      "[[ 9]\n",
      " [-3]\n",
      " [ 6]\n",
      " [-7]\n",
      " [-7]\n",
      " [-1]]\n"
     ]
    }
   ],
   "source": [
    "array = np.random.randint(-10, 10, size=(6, 4))\n",
    "\n",
    "print(\n",
    "    f\"array:\\n{array}\",\n",
    "    \"vsplit:\\n\"\n",
    "    f\"{convert_npsplit_to_string(np.vsplit(array, 3))}\",\n",
    "    \"hsplit:\\n\"\n",
    "    f\"{convert_npsplit_to_string(np.hsplit(array, [1, 3]))}\",\n",
    "    sep=\"\\n\\n\",\n",
    ")"
   ]
  },
  {
   "cell_type": "markdown",
   "metadata": {},
   "source": [
    "## Операции с матрицами\n",
    "\n",
    "Начнем изучение функционала NumPy для работы с операциями линейной алгебры с операций, доступных без подключения подмодуля `linalg`. А именно - рассмотрим все возможные произведения.\n",
    "\n",
    "### Оператор @ и скалярные произведения\n",
    "\n",
    "Начиная с версии 3.5 в Python был добавлен новый оператор - `@`, который в контексте массивов NumPy имеет смысл обычного произведения матриц:"
   ]
  },
  {
   "cell_type": "code",
   "execution_count": 27,
   "metadata": {},
   "outputs": [
    {
     "name": "stdout",
     "output_type": "stream",
     "text": [
      "vector1:\n",
      "[-2 -8  6]\n",
      "\n",
      "vector2:\n",
      "[-8  5 -7]\n",
      "\n",
      "matrix1:\n",
      "[[ 7  6 -4]\n",
      " [-6  1  6]\n",
      " [ 2 -8 -2]\n",
      " [ 6  6  9]]\n",
      "\n",
      "matrix2:\n",
      "[[ 5  2  8  6]\n",
      " [-7  1 -2  8]\n",
      " [ 1 -2 -4  3]]\n"
     ]
    }
   ],
   "source": [
    "vector1 = np.random.randint(-10, 10, size=3)\n",
    "vector2 = np.random.randint(-10, 10, size=3)\n",
    "\n",
    "matrix1 = np.random.randint(-10, 10, size=(4, 3))\n",
    "matrix2 = np.random.randint(-10, 10, size=(3, 4))\n",
    "\n",
    "print(\n",
    "    f\"vector1:\\n{vector1}\",\n",
    "    f\"vector2:\\n{vector2}\",\n",
    "    f\"matrix1:\\n{matrix1}\",\n",
    "    f\"matrix2:\\n{matrix2}\",\n",
    "    sep=\"\\n\\n\",\n",
    ")"
   ]
  },
  {
   "cell_type": "code",
   "execution_count": 28,
   "metadata": {},
   "outputs": [
    {
     "name": "stdout",
     "output_type": "stream",
     "text": [
      "vector @ vector:\n",
      "-66\n",
      "\n",
      "vector1 @ matrix2:\n",
      "[ 52 -24 -24 -58]\n",
      "\n",
      "matrix1 @ vector2:\n",
      "[  2  11 -42 -81]\n",
      "\n",
      "matrix @ matrix:\n",
      "[[-11  28  60  78]\n",
      " [-31 -23 -74 -10]\n",
      " [ 64   0  40 -58]\n",
      " [ -3   0   0 111]]\n"
     ]
    }
   ],
   "source": [
    "print(\n",
    "    f\"vector @ vector:\\n{vector1 @ vector2}\",\n",
    "    f\"vector1 @ matrix2:\\n{vector1 @ matrix2}\",\n",
    "    f\"matrix1 @ vector2:\\n{matrix1 @ vector2}\",\n",
    "    f\"matrix @ matrix:\\n{matrix1 @ matrix2}\",\n",
    "    sep=\"\\n\\n\",\n",
    ")"
   ]
  },
  {
   "cell_type": "markdown",
   "metadata": {},
   "source": [
    "Из данных примеров видно, что одномерный массив задает как вектор-строки, так и вектор-столбцы, а оператор `@` относится к произведению одномерных массивов, как к произведениям вектора-строки на вектор-столбец, т.е. как к обычному скалярному произведению векторов. Но как быть, если мы хотим получить матрицу при выполнении операции `@`? Т.е., как быть, если нам необходимо осуществить произведение вектор-столбца на вектор-строку? Для решения данной проблемы существуют два решения: манипуляция с размерностями и функция `np.outer`. Ниже рассмотрены оба подхода."
   ]
  },
  {
   "cell_type": "code",
   "execution_count": 10,
   "metadata": {},
   "outputs": [
    {
     "name": "stdout",
     "output_type": "stream",
     "text": [
      "vector1:\n",
      "[-7  3  5]\n",
      "\n",
      "vector2:\n",
      "[ 4 -3  3]\n",
      "\n",
      "shape manipulation:\n",
      "[[-28  21 -21]\n",
      " [ 12  -9   9]\n",
      " [ 20 -15  15]]\n",
      "\n",
      "np.outer:\n",
      "[[-28  21 -21]\n",
      " [ 12  -9   9]\n",
      " [ 20 -15  15]]\n"
     ]
    }
   ],
   "source": [
    "vector1 = np.random.randint(-10, 10, size=3)\n",
    "vector2 = np.random.randint(-10, 10, size=3)\n",
    "\n",
    "print(\n",
    "    f\"vector1:\\n{vector1}\",\n",
    "    f\"vector2:\\n{vector2}\",\n",
    "    \"shape manipulation:\\n\"\n",
    "    f\"{vector1[..., np.newaxis] @ vector2[np.newaxis, ...]}\",\n",
    "    f\"np.outer:\\n{np.outer(vector1, vector2)}\",\n",
    "    sep=\"\\n\\n\",\n",
    ")"
   ]
  },
  {
   "cell_type": "markdown",
   "metadata": {},
   "source": [
    "Как и в случае с векторизованными операциями, оператор `@` имеет функциональную форму `np.matmul`, с помощью которой можно указать буфер для записи результата.\n",
    "\n",
    "### Векторное произведение\n",
    "\n",
    "Векторное произведение не имеет операторной формы записи, но имеет функциональную реализацию в виде функции `np.cross`. Функция принимает на вход массивы различных размерностей и предоставляет возможность указать измерения массивов, вдоль которых расположены векторы для выполнения вычислений."
   ]
  },
  {
   "cell_type": "code",
   "execution_count": 11,
   "metadata": {},
   "outputs": [
    {
     "name": "stdout",
     "output_type": "stream",
     "text": [
      "vector:\n",
      "[-3  5  2]\n",
      "\n",
      "pack of vectors:\n",
      "[[  7   4   2]\n",
      " [ -2   4   2]\n",
      " [-10  -4  -2]]\n",
      "\n",
      "cross product:\n",
      "[[  2  20 -47]\n",
      " [  2   2  -2]\n",
      " [ -2 -26  62]]\n"
     ]
    }
   ],
   "source": [
    "vector = np.random.randint(-10, 10, size=3)\n",
    "pack_of_vectors = np.random.randint(-10, 10, size=(3, 3))\n",
    "\n",
    "print(\n",
    "    f\"vector:\\n{vector}\",\n",
    "    f\"pack of vectors:\\n{pack_of_vectors}\",\n",
    "    f\"cross product:\\n{np.cross(vector, pack_of_vectors, axis=-1)}\",\n",
    "    sep=\"\\n\\n\",\n",
    ")"
   ]
  },
  {
   "cell_type": "markdown",
   "metadata": {},
   "source": [
    "### Практика 1. Смешанное произведение\n",
    "\n",
    "Итак, в NumPy определены скалярное и векторное произведения. Но, к сожалению, нет смешанного произведения векторов. Чтобы исправить это упущение, реализуем функцию для вычисления смешанного произведения, заложив туда возможность вычислять смешанное произведение для группы  векторов.\n",
    "\n",
    "*Входные данные*:\n",
    "- `vec1` - двумерный или одномерный `np.ndarray` чисел с плавающей точкой - вектор или матрица векторов, соответственно;\n",
    "- `vec2` - двумерный или одномерный `np.ndarray` чисел с плавающей точкой - вектор или матрица векторов, соответственно;\n",
    "- `vec3` - двумерный или одномерный `np.ndarray` чисел с плавающей точкой - вектор или матрица векторов, соответственно;\n",
    "\n",
    "*Выходные данные*:\n",
    "- Число с плавающей точкой, в случае, если аргументы - одномерные массивы, - смешанное произведение векторов;\n",
    "- Одномерный массив чисел с плавающей точкой, если аргументы - двумерные массивы, - смешанные произведения векторов;\n",
    "\n",
    "*Сторонние эффекты*:\n",
    "\n",
    "В случае если аргументы имеют разные размеры, необходимо возбудить исключение `ShapeMismatchError`. В случае, если хотя бы одна из переданных матриц имеет размерность, большую двух, необходимо возбудить исключение `ShapeMismatchError`.\n",
    "\n",
    "*Замечания*:\n",
    "- Гарантируется, что переданные массивы непустые;\n",
    "- Считаем, что вектора в матрице хранятся вдоль измерения `axis=1`, т.е. вектора - строки матрицы;\n",
    "- Смешанным произведением векторов $(\\vec{a}, \\vec{b}, \\vec{c})$ называют скалярное произведение векторов $(\\vec{a}, \\vec{h})$, где вектор $\\vec{h} = \\vec{b} \\times \\vec{c}$ - векторное произведение векторов $\\vec{b}, \\vec{c}$.\n",
    "\n",
    "**Необходимые импорты**:"
   ]
  },
  {
   "cell_type": "code",
   "execution_count": 14,
   "metadata": {},
   "outputs": [],
   "source": [
    "from numbers import Real"
   ]
  },
  {
   "cell_type": "markdown",
   "metadata": {},
   "source": [
    "**Решение**:"
   ]
  },
  {
   "cell_type": "code",
   "execution_count": 13,
   "metadata": {},
   "outputs": [],
   "source": [
    "class ShapeMismatchError(Exception):\n",
    "    pass"
   ]
  },
  {
   "cell_type": "code",
   "execution_count": 15,
   "metadata": {},
   "outputs": [],
   "source": [
    "def get_mixed_product(\n",
    "    vec1: np.ndarray,\n",
    "    vec2: np.ndarray,\n",
    "    vec3: np.ndarray,\n",
    ") -> np.ndarray | Real:\n",
    "\n",
    "    if not all([vec1.shape == vec2.shape, vec2.shape == vec3.shape, vec1.shape == vec3.shape]):\n",
    "        raise ShapeMismatchError\n",
    "\n",
    "    return np.sum(vec1 * np.cross(vec2, vec3), axis = -1)"
   ]
  },
  {
   "cell_type": "markdown",
   "metadata": {},
   "source": [
    "**Тестирование**:"
   ]
  },
  {
   "cell_type": "code",
   "execution_count": 16,
   "metadata": {},
   "outputs": [],
   "source": [
    "vec1 = np.arange(3)\n",
    "vec2 = np.array([1, 0, 0])\n",
    "vec3 = np.array([0, 1, 0])\n",
    "\n",
    "result = get_mixed_product(vec1, vec2, vec3)\n",
    "assert result == 2\n",
    "\n",
    "result = get_mixed_product(\n",
    "    np.repeat(vec1[np.newaxis, ...], 3, axis=0),\n",
    "    np.repeat(vec2[np.newaxis, ...], 3, axis=0),\n",
    "    np.repeat(vec3[np.newaxis, ...], 3, axis=0),\n",
    ")\n",
    "assert np.all(result == np.full_like(vec1, fill_value=2))\n",
    "\n",
    "try:\n",
    "    get_mixed_product(\n",
    "        np.repeat(vec1[np.newaxis, ...], 3, axis=0),\n",
    "        vec2,\n",
    "        vec3,\n",
    "    )\n",
    "\n",
    "except ShapeMismatchError:\n",
    "    pass\n",
    "\n",
    "else:\n",
    "    assert False, \"exception expected\"\n",
    "\n",
    "try:\n",
    "    get_mixed_product(\n",
    "        vec1[np.newaxis, np.newaxis, ...],\n",
    "        vec2,\n",
    "        vec3,\n",
    "    )\n",
    "\n",
    "except ShapeMismatchError:\n",
    "    pass\n",
    "\n",
    "else:\n",
    "    assert False, \"exception expected\""
   ]
  },
  {
   "cell_type": "markdown",
   "metadata": {},
   "source": [
    "### Вычисление основных характеристик\n",
    "\n",
    "**Норма**\n",
    "\n",
    "Во многих задачах полезным бывает вычислить норму вектора, например, для последующей нормировки. Для этой цели стоит использовать функцию `np.linalg.norm`, которая обладает очень широким функционалом и позволяет вычислять как нормы векторов, так и нормы матриц. Причем, с помощью аргумента `ord` вы можете выбрать, какой именно алгоритм вычисления нормы следует использовать. По умолчанию вычисляется, знакомая вам со школы, l2-норма. В общем же случае эта норма носит название Евклидовой нормы или нормы Фробениуса. Также у этой функции есть аргумент `axis`, благодаря которому вы получаете возможность вычисления нормы вдоль указанных измерений массива. "
   ]
  },
  {
   "cell_type": "code",
   "execution_count": 17,
   "metadata": {},
   "outputs": [
    {
     "name": "stdout",
     "output_type": "stream",
     "text": [
      "matrix:\n",
      "[[-10   1  -3]\n",
      " [  0   8   6]\n",
      " [ -3  -8  -8]]\n",
      "\n",
      "matrix norm:\n",
      "18.627936010197157\n",
      "\n",
      "vectors' norms\n",
      "[10.48808848 10.         11.70469991]\n",
      "\n",
      "custom vectors' norm:\n",
      "[10.48808848 10.         11.70469991]\n"
     ]
    }
   ],
   "source": [
    "matrix = np.random.randint(-10, 10, size=(3, 3))\n",
    "\n",
    "print(\n",
    "    f\"matrix:\\n{matrix}\",\n",
    "    f\"matrix norm:\\n{np.linalg.norm(matrix)}\",\n",
    "    f\"vectors' norms\\n{np.linalg.norm(matrix, axis=-1)}\",\n",
    "    \"custom vectors' norm:\\n\"\n",
    "    f\"{np.sqrt(np.sum(matrix ** 2, axis=-1))}\",\n",
    "    sep=\"\\n\\n\",\n",
    ")"
   ]
  },
  {
   "cell_type": "markdown",
   "metadata": {},
   "source": [
    "**Ранг**\n",
    "\n",
    "Для выполнения ряда операций требуется определение ранга матрицы. Например, определение ранга матрицы может быть необходимым шагом перед обращением матрицы во время решения матричных уравнений. В NumPy определение ранга матрицы осуществляется с помощью функции `np.linalg.matrix_rank`, в основе которой лежит алгоритм сингулярного разложения матриц."
   ]
  },
  {
   "cell_type": "code",
   "execution_count": 18,
   "metadata": {},
   "outputs": [
    {
     "name": "stdout",
     "output_type": "stream",
     "text": [
      "full-rank matrix:\n",
      "[[1 0 0 0]\n",
      " [0 3 0 0]\n",
      " [0 0 1 0]\n",
      " [0 0 0 2]]\n",
      "\n",
      "not full-rank matrix:\n",
      "[[1 0 0 0]\n",
      " [0 0 0 0]\n",
      " [0 0 1 0]\n",
      " [0 0 0 2]]\n",
      "\n",
      "full-rank matrix rank:\n",
      "4\n",
      "\n",
      "not full-rank matrix rank:\n",
      "3\n"
     ]
    }
   ],
   "source": [
    "matrix_full_rank = np.diag(np.random.randint(1, 5, size=4))\n",
    "matrix_not_full_rank = matrix_full_rank.copy()\n",
    "matrix_not_full_rank[1, 1] = 0\n",
    "\n",
    "print(\n",
    "    f\"full-rank matrix:\\n{matrix_full_rank}\",\n",
    "    f\"not full-rank matrix:\\n{matrix_not_full_rank}\",\n",
    "    \"full-rank matrix rank:\\n\"\n",
    "    f\"{np.linalg.matrix_rank(matrix_full_rank)}\",\n",
    "    \"not full-rank matrix rank:\\n\"\n",
    "    f\"{np.linalg.matrix_rank(matrix_not_full_rank)}\",\n",
    "    sep=\"\\n\\n\",\n",
    ")"
   ]
  },
  {
   "cell_type": "markdown",
   "metadata": {},
   "source": [
    "**Детерминант**\n",
    "\n",
    "Детерминант матрицы является ее очень важной численной характеристикой. Вычисление детерминанта в NumPy возможно с помощью функции `np.linalg.det`. Однако, поскольку вычисление детерминанта связано с вычислениями произведений, в тех случаях, когда матрица является очень большой, а её элементы - это очень большие числа, в функции `np.linalg.det` может произойти переполнение, и посчитанное значение нельзя будет использовать в дальнейших вычислениях. С этой целью в NumPy реализована специальная функция `np.linalg.slogdet`, которая возвращает знак детерминанта и натуральный логарифм его модуля."
   ]
  },
  {
   "cell_type": "code",
   "execution_count": 19,
   "metadata": {},
   "outputs": [
    {
     "name": "stdout",
     "output_type": "stream",
     "text": [
      "matrix:\n",
      "[[3 0 0 0]\n",
      " [0 2 0 0]\n",
      " [0 0 1 0]\n",
      " [0 0 0 4]]\n",
      "\n",
      "det:\n",
      "23.999999999999993\n",
      "\n",
      "slogdet:\n",
      "SlogdetResult(sign=np.float64(1.0), logabsdet=np.float64(3.1780538303479453))\n"
     ]
    }
   ],
   "source": [
    "matrix = np.diag(np.random.randint(1, 5, size=4))\n",
    "\n",
    "print(\n",
    "    f\"matrix:\\n{matrix}\",\n",
    "    f\"det:\\n{np.linalg.det(matrix)}\",\n",
    "    f\"slogdet:\\n{np.linalg.slogdet(matrix)}\",\n",
    "    sep=\"\\n\\n\",\n",
    ")"
   ]
  },
  {
   "cell_type": "markdown",
   "metadata": {},
   "source": [
    "**Собственные числа**\n",
    "\n",
    "Собственные числа и собственные векторы матрицы также являются очень важным ее характеристиками. Их вычисление может быть полезно, как для общего анализа некоторого линейного оператора, так и в качества важного шага в каком-либо алгоритме. Например, вычисление собственных чисел является важным шагом при выполнении алгоритма поиска особых точек изображения. Вычисление собственных чисел реализуется с помощью функции `numpy.linalg.eig`."
   ]
  },
  {
   "cell_type": "code",
   "execution_count": 20,
   "metadata": {},
   "outputs": [
    {
     "name": "stdout",
     "output_type": "stream",
     "text": [
      "matrix:\n",
      "[[3 0 0 0]\n",
      " [0 1 0 0]\n",
      " [0 0 4 0]\n",
      " [0 0 0 4]]\n",
      "\n",
      "eigen values:\n",
      "[3. 1. 4. 4.]\n",
      "\n",
      "eigen vectors:\n",
      "[[1. 0. 0. 0.]\n",
      " [0. 1. 0. 0.]\n",
      " [0. 0. 1. 0.]\n",
      " [0. 0. 0. 1.]]\n"
     ]
    }
   ],
   "source": [
    "matrix = np.diag(np.random.randint(1, 5, size=4))\n",
    "eigen_values, eigen_vectors = np.linalg.eig(matrix)\n",
    "\n",
    "print(\n",
    "    f\"matrix:\\n{matrix}\",\n",
    "    f\"eigen values:\\n{eigen_values}\",\n",
    "    f\"eigen vectors:\\n{eigen_vectors}\",\n",
    "    sep=\"\\n\\n\",\n",
    ")"
   ]
  },
  {
   "cell_type": "markdown",
   "metadata": {},
   "source": [
    "## Системы уравнений\n",
    "\n",
    "Разумеется, одной из важных частей линейной алгебры являются линейные уравнения. Поэтому часть функционала подмодуля `linalg` посвящена решению именно этой проблемы. В этом блоке мы рассмотрим основные функции, которые могут оказаться полезными при решении практических задач.\n",
    "\n",
    "**Обращение матрицы**\n",
    "\n",
    "При решении многих задач возникает необходимость в вычислении обратной матрицы. Такая задача, например, может возникать при вычислении коэффициентов МНК, о чем мы поговорим ниже. В NumPy вычисление обратной матрицы возможно с помощью специальной функции `np.linalg.inv`. "
   ]
  },
  {
   "cell_type": "code",
   "execution_count": 21,
   "metadata": {},
   "outputs": [
    {
     "name": "stdout",
     "output_type": "stream",
     "text": [
      "matrix:\n",
      "[[ -9 -10   5]\n",
      " [ -6  -8   1]\n",
      " [ -3  -8 -10]]\n",
      "\n",
      "matrix inverse:\n",
      "[[-2.0952381   3.33333333 -0.71428571]\n",
      " [ 1.5        -2.5         0.5       ]\n",
      " [-0.57142857  1.         -0.28571429]]\n",
      "\n",
      "product:\n",
      "[[ 1. -0.  0.]\n",
      " [ 0.  1.  0.]\n",
      " [-0.  0.  1.]]\n"
     ]
    }
   ],
   "source": [
    "matrix = np.random.randint(-10, 10, size=(3, 3))\n",
    "matrix_inv = np.linalg.inv(matrix)\n",
    "\n",
    "print(\n",
    "    f\"matrix:\\n{matrix}\",\n",
    "    f\"matrix inverse:\\n{matrix_inv}\",\n",
    "    f\"product:\\n{np.round(matrix_inv @ matrix, 2)}\",\n",
    "    sep=\"\\n\\n\",\n",
    ")"
   ]
  },
  {
   "cell_type": "markdown",
   "metadata": {},
   "source": [
    "**Решение системы линейных уравнений**\n",
    "\n",
    "В части случаев имеется возможность получения точного аналитического решения системы линейных уравнений. В этих случаях система линейных уравнений может быть решена с помощью специальной функции `np.linalg.solve`. Аргументами функции являются матрица коэффициентов и столбец правой части.\n",
    "\n",
    "Для примера рассмотрим решение системы линейных уравнений:\n",
    "\n",
    "$$\n",
    "\\begin{equation*}\n",
    " \\begin{cases}\n",
    "   x_1 + 2x_2 = 1 \\\\\n",
    "   3x_1 + 5x_2 = 2\n",
    " \\end{cases}\n",
    "\\end{equation*}\n",
    "$$"
   ]
  },
  {
   "cell_type": "code",
   "execution_count": 22,
   "metadata": {},
   "outputs": [
    {
     "name": "stdout",
     "output_type": "stream",
     "text": [
      "x1 = -1.0, x2 = 1.0\n"
     ]
    }
   ],
   "source": [
    "equation_matrix = np.array([[1, 2], [3, 5]])\n",
    "right_part = np.array([1, 2])\n",
    "\n",
    "solution = np.linalg.solve(equation_matrix, right_part)\n",
    "print(\n",
    "    \", \".join([\n",
    "        f\"x{i + 1} = {np.round(solution[i], 2)}\"\n",
    "        for i in range(solution.size)\n",
    "    ])\n",
    ")"
   ]
  },
  {
   "cell_type": "markdown",
   "metadata": {},
   "source": [
    "**МНК**\n",
    "\n",
    "Стоит отметить, что далеко не всегда существует возможность нахождения точного решения системы линейных уравнений. В реальной задаче может существовать большое количество уравнений, противоречащих друг другу. В таких условиях ищется оптимальное решение системы, в смысле минимизации некоторой ошибки. Собственно, такая постановка задачи очень напоминает нам постановку задачи МНК. На самом деле МНК можно использовать в качестве метода вычисления оптимального решения системы линейных уравнений, а потому этот алгоритм также реализован в NumPy.\n",
    "\n",
    "В примере ниже мы рассмотрим функционал NumPy для решения классической задачи, в которой используется МНК - восстановление линейной зависимости.\n",
    "\n",
    "Предположим, что у нас есть несколько тестовых точек, и мы пытаемся по ним восстановить исходную зависимость вида:\n",
    "$$y = ax + b, $$\n",
    "\n",
    "где $a$ и $b$ - искомые коэффициенты.\n",
    "\n",
    "Пусть известны следующие координаты точек:"
   ]
  },
  {
   "cell_type": "code",
   "execution_count": 24,
   "metadata": {},
   "outputs": [],
   "source": [
    "abscissa = np.array([0, 1, 2, 3])\n",
    "ordinates = np.array([-1, 0.2, 0.9, 2.1])"
   ]
  },
  {
   "cell_type": "markdown",
   "metadata": {},
   "source": [
    "Для использования функции `np.linalg.lstsq` необходимо составить матрицу коэффициентов системы линейных уравнений. Т.е. мы должны свести задачу к решению системы линейных уравнений относительно переменных $a$ и $b$. Обладая указанными выше точками запишем следующую систему:\n",
    "\n",
    "$$\n",
    "\\begin{equation*}\n",
    " \\begin{cases}\n",
    "   ax_1 + b = y_1 \\Rightarrow b = -1 \\\\\n",
    "   ax_2 + b = y_2 \\Rightarrow a + b = 0.2 \\\\\n",
    "   ax_3 + b = y_3 \\Rightarrow 2a + b = 0.9\\\\\n",
    "   ax_4 + b = y_4 \\Rightarrow 3a + b = 2.1\n",
    " \\end{cases}\n",
    "\\end{equation*}\n",
    "$$\n",
    "\n",
    "Итак, займемся построением матрицы системы и поиском коэффициентов."
   ]
  },
  {
   "cell_type": "code",
   "execution_count": 25,
   "metadata": {},
   "outputs": [
    {
     "name": "stdout",
     "output_type": "stream",
     "text": [
      "exiation_matrix:\n",
      "[[0 1]\n",
      " [1 1]\n",
      " [2 1]\n",
      " [3 1]]\n",
      "\n",
      "incline: 1.0\n",
      "shift: -0.95\n"
     ]
    }
   ],
   "source": [
    "equation_matrix = np.vstack((abscissa, np.ones_like(abscissa))).T\n",
    "print(f\"exiation_matrix:\\n{equation_matrix}\", end=\"\\n\\n\")\n",
    "\n",
    "coefficients = np.linalg.lstsq(\n",
    "    equation_matrix, ordinates, rcond=None\n",
    ")[0]\n",
    "\n",
    "print(\n",
    "    f\"incline: {np.round(coefficients[0], 2)}\",\n",
    "    f\"shift: {np.round(coefficients[1], 2)}\",\n",
    "    sep=\"\\n\",\n",
    ")"
   ]
  },
  {
   "cell_type": "markdown",
   "metadata": {},
   "source": [
    "## Задача 1. Оптимальное распределение ресурсов\n",
    "\n",
    "Некоторая компания производит $N$ типов товаров, используя $M$ типов ресурсов. Для учета производственных стоимостей в компании заведена таблица `costs`, которая представляет собой матрицу размеров $M \\times N$. Элемент данной матрицы `costs[i][j]` показывает, сколько единиц i-ого ресурса требуется для производства одной единицы j-ого товара. Для учета доступных ресурсов в компании также определен одномерный массив `resource_amounts`, длины $M$. i-ый элемент массива `resource_amounts` соответствует количеству i-ого ресурса, доступного для использования в производстве.\n",
    "\n",
    "Каждый месяц аналитики компании, на основании данных анализа рынка, озвучивают ожидаемый спрос на производимые товары. Ожидаемый спрос характеризуется одномерным массивов `demand_expected`, состоящим из $N$ элементов. i-ому элементу массива `demand_expected` соответствует число товаров, которое необходимо произвести для удовлетворения ожидаемого спроса.\n",
    "\n",
    "Ваша задача - разработать функцию, которая позволяет определить, сможет ли компания удовлетворить ожидаемый спрос, учитывая текущее количество ресурсов и текущие производственные стоимости, или нет.\n",
    "\n",
    "*Входные данные*:\n",
    "- `costs` - двумерный массив чисел с плавающей точкой - количества ресурсов, требуемых для производства товаров;\n",
    "- `resource_amounts` - одномерный массив чисел с плавающей точкой - доступное количество ресурсов;\n",
    "- `demand_expected` - одномерный массив целых чисел - необходимое число товаров, для удовлетворения ожидаемого спроса;\n",
    "\n",
    "*Выходные данные*:\n",
    "- Булево значение: `True`, если компания сможет удовлетворить ожидаемый спрос, иначе - `False`.\n",
    "\n",
    "*Сторонние эффекты*:\n",
    "- Если размеры входных массивов не согласованы, необходимо возбудить исключение `ShapeMismatchError`;\n",
    "\n",
    "**Решение**:"
   ]
  },
  {
   "cell_type": "code",
   "execution_count": 67,
   "metadata": {},
   "outputs": [],
   "source": [
    "def can_satisfy_demand(\n",
    "    costs: np.ndarray,\n",
    "    resource_amounts: np.ndarray,\n",
    "    demand_expected: np.ndarray,\n",
    ") -> bool:\n",
    "\n",
    "    if (costs.shape[0] != resource_amounts.size) and (costs.shape[1] != demand_expected.size) and (resource_amounts.size != demand_expected):\n",
    "        raise ShapeMismatchError()\n",
    "\n",
    "    total_resources = costs @ demand_expected\n",
    "\n",
    "    return np.all(total_resources <= resource_amounts)"
   ]
  },
  {
   "cell_type": "markdown",
   "metadata": {},
   "source": [
    "**Тестирование**:"
   ]
  },
  {
   "cell_type": "code",
   "execution_count": 68,
   "metadata": {},
   "outputs": [],
   "source": [
    "costs = np.eye(4)\n",
    "resource_amounts = np.full(shape=4, fill_value=3)\n",
    "demand_expected = np.full(shape=4, fill_value=4)\n",
    "\n",
    "assert not can_satisfy_demand(costs, resource_amounts, demand_expected)\n",
    "assert can_satisfy_demand(costs, demand_expected, resource_amounts)"
   ]
  },
  {
   "cell_type": "markdown",
   "metadata": {},
   "source": [
    "## Задача 2. Без базиса не выйдет\n",
    "\n",
    "Дана квадратная матрица $A$. В строках матрицы $A$ записаны векторы N-мерного пространства. Также дан вектор $\\vec{a}$. Ваша задача - реализовать функцию, которая бы выполняла следующие вычисления:\n",
    "- проверяла, являются ли вектора матрицы $A$ базисом в N-мерном пространстве;\n",
    "- вычисляла бы ортогональные проекции $\\vec{a}$ на базисные вектора, а также вычисляла бы ортогональные составляющие каждой проекции, если матрица $A$ задает базис.\n",
    "\n",
    "*Входные данные*:\n",
    "- `matrix` - двумерный массив `np.ndarray` - описание потенциального базиса;\n",
    "- `vector` - одномерный массив `np.ndarray` - вектор, проекции которого необходимо вычислить;\n",
    "\n",
    "*Выходные данные*:\n",
    "- Кортеж (`tuple`) двумерных массивов. Первый элемент кортежа - ортогональные проекции вектора на базис, второй элемент - ортогональные составляющие проекций вектора на базис. В случае, если входная матрица не задает базис, элементы кортежа - `None`.\n",
    "\n",
    "*Сторонние эффекты*:\n",
    "- Если матрица $A$ не является квадратной, необходимо возбудить исключение `ShapeMismatchError`;\n",
    "- Если количество столбцов матрицы $A$ отлично от количества элементов входного вектора, необходимо возбудить исключение `ShapeMismatchError`.\n",
    "\n",
    "*Замечания*:\n",
    "- Гарантируется, что `vector` - не нулевой вектор.\n",
    "\n",
    "**Решение**:"
   ]
  },
  {
   "cell_type": "code",
   "execution_count": null,
   "metadata": {},
   "outputs": [],
   "source": [
    "def get_projections_components(\n",
    "    matrix: np.ndarray,\n",
    "    vector: np.ndarray,\n",
    ") -> tuple[np.ndarray | None, np.ndarray | None]:\n",
    "\n",
    "    if matrix.shape[0] != matrix.shape[1]:\n",
    "        raise ShapeMismatchError(\"Matrice should be square\")\n",
    "    elif matrix.shape[1] != vector.shape[0]:\n",
    "        raise ShapeMismatchError(\"Matrice columns should be equal to vector size\")\n",
    "\n",
    "    if np.linalg.det(matrix) == 0:\n",
    "        return None, None\n",
    "\n",
    "    norms_basys = np.linalg.norm(matrix, axis=1)\n",
    "\n",
    "    orthogonal_projection = ((np.dot(matrix, vector) / (norms_basys)**2) * matrix.T).T\n",
    "    orthogonal_component = vector - orthogonal_projection\n",
    "\n",
    "    return orthogonal_projection, orthogonal_component"
   ]
  },
  {
   "cell_type": "markdown",
   "metadata": {},
   "source": [
    "**Тестирование**:"
   ]
  },
  {
   "cell_type": "code",
   "execution_count": 147,
   "metadata": {},
   "outputs": [],
   "source": [
    "matrix = np.diag([2, 5])\n",
    "matrix22 = np.array([[3, 4], [1, 6]])\n",
    "vector = np.arange(start=2, stop=4)\n",
    "projections_expected = np.array([[2, 0], [0, 3]])\n",
    "orthogonals_expected = np.array([[0, 3], [2, 0]])\n",
    "\n",
    "projections, orthogonals = get_projections_components(matrix, vector)\n",
    "\n",
    "assert np.allclose(projections, projections_expected)\n",
    "assert np.allclose(orthogonals, orthogonals_expected)"
   ]
  },
  {
   "cell_type": "code",
   "execution_count": 148,
   "metadata": {},
   "outputs": [],
   "source": [
    "matrix = np.array([[1, 0], [1, 1]])\n",
    "vector = np.array([0, 1])\n",
    "projections_expected = np.array([[0, 0], [0.5, 0.5]])\n",
    "orthogonals_expected = np.array([[0, 1], [-0.5, 0.5]])\n",
    "\n",
    "projections, orthogonals = get_projections_components(matrix, vector)\n",
    "\n",
    "assert np.allclose(projections, projections_expected)\n",
    "assert np.allclose(orthogonals, orthogonals_expected)"
   ]
  },
  {
   "cell_type": "code",
   "execution_count": 149,
   "metadata": {},
   "outputs": [],
   "source": [
    "matrix = np.array([[1, 2], [2, 4]])\n",
    "vector = np.array([0, 1])\n",
    "\n",
    "projections, orthogonals = get_projections_components(matrix, vector)\n",
    "\n",
    "assert projections is None\n",
    "assert orthogonals is None"
   ]
  },
  {
   "cell_type": "markdown",
   "metadata": {},
   "source": [
    "## Задача 3. Адаптивная фильтрация\n",
    "\n",
    "\n",
    "Фильтрация нужна для того, чтобы отделить полезный сигнал от шума или помех. Например, если вы слушаете музыку, а в фоне есть шум, фильтр может убрать этот шум, чтобы музыка звучала чище.\n",
    "\n",
    "Адаптивная фильтрация — это более умный способ фильтрации. Она используется, когда шум или сигнал меняются со временем, и обычный фильтр не справляется. Адаптивный фильтр сам подстраивается под изменения, чтобы всегда эффективно убирать шум или выделять нужный сигнал. Например, если вы разговариваете по телефону в шумном месте, адаптивный фильтр будет постоянно подстраиваться, чтобы ваш голос был слышен чётко, даже если шум вокруг меняется.\n",
    "\n",
    "В данной задаче рассматривается формула адаптивной фильтрации, которая основана на использовании корреляционной матрицы и обучающей выборки для настройки фильтра. Формула имеет вид:\n",
    "\n",
    "$$ y = R^{-1} V_s $$\n",
    "\n",
    "где:\n",
    "- $ y $ — выходной сигнал после фильтрации (матрица размером $ M \\times N $)\n",
    "- $ R^{-1} $ — обратная корреляционная матрица (матрица размером $ M \\times M $)\n",
    "- $ V_s $ — обрабатываемая выборка сигнала (матрица размером $ M \\times N $)\n",
    "\n",
    "Обратная корреляционная матрица $( R^{-1} $) вычисляется следующим образом:\n",
    "\n",
    "$$ R^{-1} = (I + V_j A V_j^H)^{-1} = I - V_j (I + V_j^H V_j A)^{-1} V_j^H $$\n",
    "\n",
    "где:\n",
    "- $ I $ — единичная матрица\n",
    "- $ V_j $ — обучающая выборка (матрица комплексных чисел размером $ M \\times K $)\n",
    "- $ A $ — диагональная матрица комплексных чисел (размером $ K \\times K $), которая определяет мощность подавления\n",
    "- $ V_j^H $ — матрица, которая получается поэлементным сопряжением матрицы $ V_j $ и транспонированием результата (это называется эрмитово сопряженная матрица) \n",
    "\n",
    "*Пояснение к формуле*:\n",
    "- Корреляционная матрица $ R $ характеризует статистические свойства сигнала и шума. Обратная корреляционная матрица $ R^{-1} $ используется для компенсации корреляции в сигнале, что позволяет выделить полезный сигнал.\n",
    "- Матрица $ A $ регулирует степень подавления шума или нежелательных компонентов сигнала. Она является диагональной, что упрощает вычисления.\n",
    "- Обучающая выборка $ V_j $ используется для настройки фильтра на основе известных данных.\n",
    "\n",
    "**Задача**\n",
    "\n",
    "Напишите функцию, которая вычисляет выходной сигнал $ y $ по формуле адаптивной фильтрации, используя предоставленные матрицы $ V_s $, $ V_j $ и $ A $.\n",
    "\n",
    "*Входные данные*:\n",
    "- `Vs` — матрица обрабатываемой выборки сигнала (тип: `numpy.ndarray`, размерность: $ M \\times N $)\n",
    "- `Vj` — матрица обучающей выборки (тип: `numpy.ndarray`, размерность: $ M \\times K $)\n",
    "- `diag_A` — диагональ матрицы A (тип: `numpy.ndarray`, размерность: $K$)\n",
    "\n",
    "*Выходные данные*:\n",
    "- `y` — выходной сигнал после фильтрации (тип: `numpy.ndarray`, размерность: $ M \\times N $)\n",
    "\n",
    "*Сторонние эффекты*:\n",
    "- Если размеры входных массивов не согласованы, необходимо возбудить исключение `ShapeMismatchError`;\n"
   ]
  },
  {
   "cell_type": "code",
   "execution_count": null,
   "metadata": {},
   "outputs": [],
   "source": [
    "def adaptive_filter(\n",
    "    Vs : np.ndarray, \n",
    "    Vj : np.ndarray, \n",
    "    diag_A : np.ndarray\n",
    ") -> np.ndarray:\n",
    "    M = Vs.shape[0]\n",
    "\n",
    "    VjH = np.conj(Vj).T\n",
    "    I = np.eye(M, dtype=Vj.dtype)\n",
    "\n",
    "    R = I + Vj @ np.diag(diag_A) @ VjH\n",
    "    y = np.linalg.inv(R) @ Vs\n",
    "\n",
    "    return y"
   ]
  },
  {
   "cell_type": "code",
   "execution_count": 179,
   "metadata": {},
   "outputs": [
    {
     "ename": "MemoryError",
     "evalue": "Unable to allocate 2.33 TiB for an array with shape (400000, 400000) and data type complex128",
     "output_type": "error",
     "traceback": [
      "\u001b[1;31m---------------------------------------------------------------------------\u001b[0m",
      "\u001b[1;31mMemoryError\u001b[0m                               Traceback (most recent call last)",
      "Cell \u001b[1;32mIn[179], line 13\u001b[0m\n\u001b[0;32m     10\u001b[0m \u001b[38;5;28;01mwith\u001b[39;00m \u001b[38;5;28mopen\u001b[39m(\u001b[38;5;124m'\u001b[39m\u001b[38;5;124msource/y_data.npy\u001b[39m\u001b[38;5;124m'\u001b[39m, \u001b[38;5;124m'\u001b[39m\u001b[38;5;124mrb\u001b[39m\u001b[38;5;124m'\u001b[39m) \u001b[38;5;28;01mas\u001b[39;00m f:\n\u001b[0;32m     11\u001b[0m     y_check \u001b[38;5;241m=\u001b[39m np\u001b[38;5;241m.\u001b[39mload(f)\n\u001b[1;32m---> 13\u001b[0m y \u001b[38;5;241m=\u001b[39m \u001b[43madaptive_filter\u001b[49m\u001b[43m(\u001b[49m\u001b[43mVs\u001b[49m\u001b[43m,\u001b[49m\u001b[43m \u001b[49m\u001b[43mVj\u001b[49m\u001b[43m,\u001b[49m\u001b[43m \u001b[49m\u001b[43mdiag_A\u001b[49m\u001b[43m)\u001b[49m\n\u001b[0;32m     14\u001b[0m \u001b[38;5;28;01massert\u001b[39;00m np\u001b[38;5;241m.\u001b[39mallclose(y, y_check)\n",
      "Cell \u001b[1;32mIn[178], line 10\u001b[0m, in \u001b[0;36madaptive_filter\u001b[1;34m(Vs, Vj, diag_A)\u001b[0m\n\u001b[0;32m      6\u001b[0m M \u001b[38;5;241m=\u001b[39m Vs\u001b[38;5;241m.\u001b[39mshape[\u001b[38;5;241m0\u001b[39m]\n\u001b[0;32m      8\u001b[0m A \u001b[38;5;241m=\u001b[39m np\u001b[38;5;241m.\u001b[39mdiag(diag_A)\n\u001b[1;32m---> 10\u001b[0m I \u001b[38;5;241m=\u001b[39m \u001b[43mnp\u001b[49m\u001b[38;5;241;43m.\u001b[39;49m\u001b[43meye\u001b[49m\u001b[43m(\u001b[49m\u001b[43mM\u001b[49m\u001b[43m,\u001b[49m\u001b[43m \u001b[49m\u001b[43mdtype\u001b[49m\u001b[38;5;241;43m=\u001b[39;49m\u001b[43mVj\u001b[49m\u001b[38;5;241;43m.\u001b[39;49m\u001b[43mdtype\u001b[49m\u001b[43m)\u001b[49m\n\u001b[0;32m     11\u001b[0m R \u001b[38;5;241m=\u001b[39m I \u001b[38;5;241m+\u001b[39m Vj \u001b[38;5;241m@\u001b[39m A \u001b[38;5;241m@\u001b[39m Vj\u001b[38;5;241m.\u001b[39mconj()\u001b[38;5;241m.\u001b[39mT\n\u001b[0;32m     12\u001b[0m R_inv \u001b[38;5;241m=\u001b[39m np\u001b[38;5;241m.\u001b[39mlinalg\u001b[38;5;241m.\u001b[39minv(R)\n",
      "File \u001b[1;32mc:\\Users\\Timur\\AppData\\Local\\Programs\\Python\\Python311\\Lib\\site-packages\\numpy\\lib\\_twodim_base_impl.py:224\u001b[0m, in \u001b[0;36meye\u001b[1;34m(N, M, k, dtype, order, device, like)\u001b[0m\n\u001b[0;32m    222\u001b[0m \u001b[38;5;28;01mif\u001b[39;00m M \u001b[38;5;129;01mis\u001b[39;00m \u001b[38;5;28;01mNone\u001b[39;00m:\n\u001b[0;32m    223\u001b[0m     M \u001b[38;5;241m=\u001b[39m N\n\u001b[1;32m--> 224\u001b[0m m \u001b[38;5;241m=\u001b[39m zeros((N, M), dtype\u001b[38;5;241m=\u001b[39mdtype, order\u001b[38;5;241m=\u001b[39morder, device\u001b[38;5;241m=\u001b[39mdevice)\n\u001b[0;32m    225\u001b[0m \u001b[38;5;28;01mif\u001b[39;00m k \u001b[38;5;241m>\u001b[39m\u001b[38;5;241m=\u001b[39m M:\n\u001b[0;32m    226\u001b[0m     \u001b[38;5;28;01mreturn\u001b[39;00m m\n",
      "\u001b[1;31mMemoryError\u001b[0m: Unable to allocate 2.33 TiB for an array with shape (400000, 400000) and data type complex128"
     ]
    }
   ],
   "source": [
    "with open('source/diag_A_data.npy', 'rb') as f:\n",
    "    diag_A = np.load(f)\n",
    "\n",
    "with open('source/Vj_data.npy', 'rb') as f:\n",
    "    Vj = np.load(f)\n",
    "\n",
    "with open('source/Vs_data.npy', 'rb') as f:\n",
    "    Vs = np.load(f)\n",
    "\n",
    "with open('source/y_data.npy', 'rb') as f:\n",
    "    y_check = np.load(f)\n",
    "\n",
    "y = adaptive_filter(Vs, Vj, diag_A)\n",
    "assert np.allclose(y, y_check)"
   ]
  }
 ],
 "metadata": {
  "kernelspec": {
   "display_name": "Python 3",
   "language": "python",
   "name": "python3"
  },
  "language_info": {
   "codemirror_mode": {
    "name": "ipython",
    "version": 3
   },
   "file_extension": ".py",
   "mimetype": "text/x-python",
   "name": "python",
   "nbconvert_exporter": "python",
   "pygments_lexer": "ipython3",
   "version": "3.11.8"
  }
 },
 "nbformat": 4,
 "nbformat_minor": 2
}
