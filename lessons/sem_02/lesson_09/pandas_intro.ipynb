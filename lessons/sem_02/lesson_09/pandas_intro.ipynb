{
 "cells": [
  {
   "cell_type": "markdown",
   "metadata": {},
   "source": [
    "# Введение в Pandas\n",
    "\n",
    "К текущему моменту мы уже умеем строить эффективные по быстродействию алгоритмы с участием многомерных массивов, за счет использования NumPy, мы умеем визуализировать данные различными способами. Однако все это время данные, с которыми мы работали, создавались с нуля внутри наших программ. В реальной жизни большая часть задач, решаемых наукой о данных, подразумевает использование данных из вне. Это могут быть данные, полученные в ходе некоторого научного эксперимента, или данные ответов респондентов на вопросы статистического опроса. При этом сами данные могут быть представлены в различных формах (категориальные и числовые данные) или могут даже содержать пропуски. Также сами данные могут храниться в виде простого csv-файла, в формате exel-таблицы или в реляционной базе данных, по типу PostgreSQL.\n",
    "\n",
    "Возможности работы с основными видами данных, чтения данных из различных источников, а также обработка недостающих данных являются очень важными частями анализа данных. Соответственно, нужен некоторый инструмент, который мог бы удовлетворять нашим требованиям. Первое, что приходит на ум - NumPy. NumPy достаточно эффективно обрабатывает массивы однотипных данных и содержит значительную часть функций, подходящих для статистического анализа. Однако, при пристальном анализе, оказывается, NumPy - не лучший инструмент для работы с сырыми данными. Например, в случае работы с данными, представляющими собой ответы респондентов некоторого статистического опроса, запись в таблице может содержать, как числовые, так и категориальные или даже текстовые данные, например:\n",
    "\n",
    "|id|age|math grade|physic grade|\n",
    "|---|---|---|---|\n",
    "|9f49fef9-8050-4fa5-b910-5f3b9db8ea82|20|8.7|7.9|\n",
    "|c1058e4c-6163-41c5-a5c0-da3e0b13cbd4|19|5.6|6.8|\n",
    "|81406e47-ec36-49b5-bbda-656f71747bb9|20|NaN|9.1|\n",
    "\n",
    "В этом случае мы не сможем эффективно обработать данные разного типа, используя один `np.ndarray`. Более того, даже если мы будем использовать по одному массиву для хранения каждого столбца, мы не сможем осуществлять операции, которые являются необходимыми при анализе денных - объединение таблиц и создание сводных таблиц.\n",
    "\n",
    "Именно в этот момент на сцену выходит `Pandas`. Pandas не имеет никакой связи с пандами, название фреймворка образовано от словосочетания *Panel data*. Сам Pandas входит в стек Data Science фреймворков, на ряду с NumPy и Matplotlib. Pandas является надстройкой над библиотекой NumPy, реализующей эффективную обработку табличных данных, т.е. разнородных данных, хранение которых организовано в таблицах. Также, по аналогии с NumPy, Pandas обладает эффективной реализацией большого количества функционала по работе с табличными данными. \n",
    "\n",
    "![pandas_logo](./images/pandas_logo.png)"
   ]
  },
  {
   "cell_type": "markdown",
   "metadata": {},
   "source": [
    "## Импорт\n",
    "\n",
    "По аналогии с NumPy и Matplotlib, Pandas имеет свое стандартное сокращение, которое чаще всего используется в среде аналитиков данных и специалистов в области науки о данных:"
   ]
  },
  {
   "cell_type": "code",
   "execution_count": null,
   "metadata": {},
   "outputs": [],
   "source": [
    "import pandas as pd\n",
    "import numpy as np"
   ]
  },
  {
   "cell_type": "markdown",
   "metadata": {},
   "source": [
    "## Основные объекты\n",
    "\n",
    "Сердцем NumPy является объект `np.ndarray`, который реализует эффективное хранение данных и предоставляет интерфейс для работы с многомерными упорядоченными однотипными данными. Похожие структуры лежат и в основе Pandas, правда, в отличие от NumPy, в Pandas присутствует три основополагающих объекта: `Series`, `DataFrame` и `Index`. Давайте подробнее рассмотрим каждый из этих объектов.\n",
    "\n",
    "### Index\n",
    "Начнем наше знакомство с библиотекой Pandas с объекта `pd.Index`. Index является простейшим объектом Pandas и выступает в роли служебной структуры данных, поскольку используется для хранения индексов столбцов и строк в более сложных объектов. По сути своей, Index можно рассматривать как неизменяемый массив из библиотеки NumPy, и этот факт отражает часть интерфейса данного типа данных.\n",
    "\n",
    "Рассмотрим создание индекса и часть его NumPy-подобного интерфейса:"
   ]
  },
  {
   "cell_type": "code",
   "execution_count": null,
   "metadata": {},
   "outputs": [],
   "source": [
    "index_int = pd.Index(list(range(10)))\n",
    "index_str = pd.Index(list(\"abc\"))\n",
    "index_obj = pd.Index([(1, ), (2, ), {3, 4}])\n",
    "\n",
    "print(\n",
    "    f\"index int:\\n{index_int};\",\n",
    "    f\"index str:\\n{index_str};\",\n",
    "    f\"index obj:\\n{index_obj};\",\n",
    "    sep=\"\\n\",\n",
    "    end=\"\\n\\n\"\n",
    ")\n",
    "\n",
    "print(\n",
    "    f\"index size: {index_int.size};\",\n",
    "    f\"index shape: {index_int.shape};\",\n",
    "    f\"index ndim: {index_int.ndim};\",\n",
    "    f\"index dtype: {index_int.dtype};\",\n",
    "    sep=\"\\n\",\n",
    ")"
   ]
  },
  {
   "cell_type": "markdown",
   "metadata": {},
   "source": [
    "Также, по аналогии с массивами NumPy, индексы Pandas для получения данных могут быть проиндексированы целыми числами, срезами, массивами индексов, а также булевыми масками. Однако, стоит повторно отметить тот факт, что индексы в Pandas являются неизменяемыми типами данных, т.е. не поддерживает операции изменения значений элементов. Проиллюстрируем эти утверждения примерами:"
   ]
  },
  {
   "cell_type": "code",
   "execution_count": null,
   "metadata": {},
   "outputs": [],
   "source": [
    "index = pd.Index(list(range(10)))\n",
    "\n",
    "print(f\"index:\\n{index}\", end=\"\\n\\n\")\n",
    "\n",
    "print(\n",
    "    f\"int index: {index[0]};\",\n",
    "    f\"slice index: {index[::3]};\",\n",
    "    f\"array index: {index[[1, 5, 6]]};\",\n",
    "    f\"boolean mask index: {index[index < 5]};\",\n",
    "    sep=\"\\n\",\n",
    "    end=\"\\n\\n\",\n",
    ")\n",
    "\n",
    "try:\n",
    "    index[0] = 42\n",
    "\n",
    "except TypeError as exception:\n",
    "    print(exception)"
   ]
  },
  {
   "cell_type": "markdown",
   "metadata": {},
   "source": [
    "Неизменяемость индекса необходима для совместного безопасного использования одного объекта индекса несколькими объектами типов `pd.DataFrame` или `pd.Series`. Неизменяемость гарантирует, что ни один из объектов, использующих индекс, не сможет внести в него изменения, ломающие логику другого объекта, использующего тот же индекс.\n",
    "\n",
    "Помимо интерфейса NumPy-массива индексы Pandas также обладают интерфейсом множеств, и могут быть определены как упорядоченное мультимножество. Термин \"мультимножество\" подразумевает тот факт, что любой индекс может содержать несколько элементов с одним и тем же значением. Наличие интерфейса множеств необходимо для реализации выполнения различных операций между более сложными объектами Pandas, что будет рассмотрено ниже. Рассмотрим несколько примеров работы с индексами Pandas, как с мультимножествами."
   ]
  },
  {
   "cell_type": "code",
   "execution_count": null,
   "metadata": {},
   "outputs": [],
   "source": [
    "index1 = pd.Index([1, 2, 2, 4, 6])\n",
    "index2 = pd.Index(list(range(index1.size)))\n",
    "\n",
    "print(\n",
    "    f\"index1:\\n{index1}\",\n",
    "    f\"index2:\\n{index2}\",\n",
    "    sep=\"\\n\",\n",
    "    end=\"\\n\\n\",\n",
    ")\n",
    "\n",
    "print(\n",
    "    f\"intersection: {index1.intersection(index2)};\",\n",
    "    f\"union: {index1.union(index2)};\",\n",
    "    f\"difference I1 - I2: {index1.difference(index2)}\",\n",
    "    f\"difference I2 - I1: {index2.difference(index1)}\",\n",
    "    f\"symmetrical difference: {index1.symmetric_difference(index2)};\",\n",
    "    sep=\"\\n\",\n",
    ")"
   ]
  },
  {
   "cell_type": "markdown",
   "metadata": {},
   "source": [
    "### Series\n",
    "\n",
    "Следующий объект в иерархии объектов Pandas - это объект `pd.Series`, - одномерный массив индексированных данных. Простейший способ создания этого объекта - это создание из списка."
   ]
  },
  {
   "cell_type": "code",
   "execution_count": null,
   "metadata": {},
   "outputs": [],
   "source": [
    "series = pd.Series(list(range(10)))\n",
    "print(f\"series:\\n{series}\")"
   ]
  },
  {
   "cell_type": "markdown",
   "metadata": {},
   "source": [
    "Как видно из данного листинга кода, объект Series является адаптером для самой последовательности значений, а также для индексов, которые могут быть переданы явно, или, как в данном случае, могу быть сгенерированы автоматически. Мы можем получить доступ как к значениям индекса, так и к значениям самих данных, используя специальные атрибуты объекта Series. "
   ]
  },
  {
   "cell_type": "code",
   "execution_count": null,
   "metadata": {},
   "outputs": [],
   "source": [
    "print(\n",
    "    f\"series index:\\n{series.index}\",\n",
    "    f\"series values:\\n{series.values}\",\n",
    "    sep=\"\\n\\n\",\n",
    ")"
   ]
  },
  {
   "cell_type": "markdown",
   "metadata": {},
   "source": [
    "Как мы видим, индекс хранится в уже знакомом нам объекте `pd.Index`, значения же хранятся в также знакомом нам `np.ndarray`. Из этих фактов следует, что `Series`является адаптером не просто для индекса и последовательности значений, а адаптером для однотипного индекса и для последовательности значений одного типа.\n",
    "\n",
    "Мы можем думать об объекте Series, как об обобщенном одномерном массиве NumPy, поскольку Series является упорядоченной, изменяемой, явно индексируемой последовательностью данных одного типа. За счет задания явного индекса и возможности использования не только числовых значений для составления индекса, объект Series значительно расширяет возможности одномерных массивов NumPy."
   ]
  },
  {
   "cell_type": "code",
   "execution_count": null,
   "metadata": {},
   "outputs": [],
   "source": [
    "series = pd.Series(\n",
    "    data=[1, 2, 3],\n",
    "    index=[\"first\", \"second\", \"third\"],\n",
    ")\n",
    "print(f\"series:\\n{series}\", end=\"\\n\\n\")\n",
    "print(\n",
    "    f\"int indexing: {series[0]};\",\n",
    "    f\"custom index indexing: {series['first']};\",\n",
    "    sep=\"\\n\",\n",
    ")"
   ]
  },
  {
   "cell_type": "markdown",
   "metadata": {},
   "source": [
    "Обратим внимание на тот факт, что и индексы и сами данные должны быть одного типа. В случае несоответствия типов Pandas, по аналогии с NumPy, будет осуществлять повышающее приведение типов. Если переданные объекты не могут быть приведены к одному общему типу, Pandas создаст коллекцию с `dtype=object`, т.е. с самым общим типом объектов Python.\n",
    "\n",
    "Также индексы могут содержать не обязательно логически упорядоченные и полные данные для индексирования Series:"
   ]
  },
  {
   "cell_type": "code",
   "execution_count": null,
   "metadata": {},
   "outputs": [],
   "source": [
    "series = pd.Series(\n",
    "    data=[1, 2, 3],\n",
    "    index=[1, 5, 3],\n",
    ")\n",
    "print(f\"series:\\n{series}\")"
   ]
  },
  {
   "cell_type": "markdown",
   "metadata": {},
   "source": [
    "При задании индексов и данных в виде упорядоченных последовательностей, Pandas устанавливает соответствия данных индексам по их позициям, и сохраняет их в Series в переданном порядке следования элементов.\n",
    "\n",
    "Так же мы можем думать о `Series`, как о специализированной версии словаря со строго типизированными значениями и ключами. Для того, чтобы эта аналогия была более явной, сконструируем объект Series из словаря Python."
   ]
  },
  {
   "cell_type": "code",
   "execution_count": null,
   "metadata": {},
   "outputs": [],
   "source": [
    "population_dict = {\n",
    "    \"Moscow\": 13149803,\n",
    "    \"Saint Petersburg\": 5600044,\n",
    "    \"Novosibirsk\": 1635338,\n",
    "    \"Ekaterinburg\": 1539371,\n",
    "    \"Kazan\": 1495066,\n",
    "}\n",
    "\n",
    "populations = pd.Series(population_dict)\n",
    "print(populations)"
   ]
  },
  {
   "cell_type": "markdown",
   "metadata": {},
   "source": [
    "При подобном способе создания объекта Series данные будут следовать в порядке следования ключей словаря в сохраненной в памяти хэш-таблице.\n",
    "\n",
    "Поскольку объект Series гораздо сложнее описанных выше объектов Index, рассмотрим способы создания Series подробнее: "
   ]
  },
  {
   "cell_type": "code",
   "execution_count": null,
   "metadata": {},
   "outputs": [],
   "source": [
    "# из массива с автоматической генерацией индекса на стороне Pandas\n",
    "print(f\"auto generated index:\\n{pd.Series(list(range(5)))}\", end=\"\\n\\n\")\n",
    "\n",
    "# с указанием fill_value и последовательности индексов\n",
    "print(f\"with fill_value:\\n{pd.Series(5, index=list('abc'))}\", end=\"\\n\\n\")\n",
    "\n",
    "# из словаря\n",
    "print(f\"from dict:\\n{pd.Series({'a': 1, 'b': 2, 'c': 3})}\", end=\"\\n\\n\")\n",
    "\n",
    "# из словаря с указанием индексов\n",
    "print(\n",
    "    \"from dict with filter:\",\n",
    "    f\"{pd.Series({'a': 1, 'b': 2, 'c': 3}, index=['a', 'c'])}\",\n",
    "    sep=\"\\n\"\n",
    ")"
   ]
  },
  {
   "cell_type": "markdown",
   "metadata": {},
   "source": [
    "### DataFrame\n",
    "\n",
    "Последний объект в иерархии объектов Pandas - это объект `DataFrame`. Объект DataFrame является аналогом двумерного массива NumPy с возможностью явного указания индексов строк и столбцов. Более точно, DataFrame можно определить так: DataFrame - это упорядоченная последовательность выровненных объектов Series. Под выравниванием здесь понимается тот факт, что все элементы DataFrame используют один и тот же объект Index для индексации. Рассмотрим пример: создадим два объекта типа `pd.Series`, разделяющих общие индексы, и создадим с их помощью объект DataFrame."
   ]
  },
  {
   "cell_type": "code",
   "execution_count": null,
   "metadata": {},
   "outputs": [],
   "source": [
    "populations = pd.Series(\n",
    "    {\n",
    "        \"Moscow\": 13149803,\n",
    "        \"Saint Petersburg\": 5600044,\n",
    "        \"Novosibirsk\": 1635338,\n",
    "        \"Ekaterinburg\": 1539371,\n",
    "        \"Kazan\": 1495066,\n",
    "    }\n",
    ")\n",
    "areas = pd.Series(\n",
    "    {\n",
    "        \"Saint Petersburg\": 1439,\n",
    "        \"Kazan\": 515.8,\n",
    "        \"Novosibirsk\": 502.7,\n",
    "        \"Ekaterinburg\": 1112,\n",
    "        \"Moscow\": 2511,\n",
    "    }\n",
    ")\n",
    "\n",
    "city_stats = pd.DataFrame(\n",
    "    {\n",
    "        \"population\": populations,\n",
    "        \"area\": areas,\n",
    "    }\n",
    ")\n",
    "city_stats"
   ]
  },
  {
   "cell_type": "markdown",
   "metadata": {},
   "source": [
    "DataFrame, по аналогии с Series, имеет атрибуты для прямого доступа к содержимому таблицы, именам колонок и именам строк: "
   ]
  },
  {
   "cell_type": "code",
   "execution_count": null,
   "metadata": {},
   "outputs": [],
   "source": [
    "print(\n",
    "    f\"columns:\\n{city_stats.columns}\",\n",
    "    f\"rows:\\n{city_stats.index}\",\n",
    "    f\"data:\\n{city_stats.values}\",\n",
    "    sep=\"\\n\\n\"\n",
    ")"
   ]
  },
  {
   "cell_type": "markdown",
   "metadata": {},
   "source": [
    "Атрибуты `index` и `columns` возвращают объект типа Index, атрибут `values` - np.ndarray.\n",
    "\n",
    "Объект DataFrame может быть интерпретирован, как словарь с типизированными ключами, значениями которого являются объекты Series. Это может быть продемонстрировано на следующем примере:"
   ]
  },
  {
   "cell_type": "code",
   "execution_count": null,
   "metadata": {},
   "outputs": [],
   "source": [
    "print(f\"{city_stats['area']}\")"
   ]
  },
  {
   "cell_type": "markdown",
   "metadata": {},
   "source": [
    "Обратите внимание, что в отличие от NumPy, для объектов DataFrame индексация по умолчанию осуществляет по столбцам, а не по строкам.\n",
    "\n",
    "Рассмотрим самые популярные способы создания DataFrame, так же, как мы это делали с Series."
   ]
  },
  {
   "cell_type": "code",
   "execution_count": null,
   "metadata": {},
   "outputs": [],
   "source": [
    "# из объекта Series\n",
    "print(\n",
    "    f\"from Series:\\n{pd.DataFrame(populations, columns=['population'])}\",\n",
    "    end=\"\\n\\n\",\n",
    ")\n",
    "\n",
    "# из списка словарей Python\n",
    "data = [{1: i, 2: i * 2} for i in range(1, 4)]\n",
    "print(\n",
    "    f\"from dicts:\\n{pd.DataFrame(data, index=range(1, 4))}\",\n",
    "    end=\"\\n\\n\",\n",
    ")\n",
    "\n",
    "# из словаря объектов Series\n",
    "data = {\n",
    "    \"population\": populations,\n",
    "    \"area\": areas,\n",
    "}\n",
    "print(\n",
    "    f\"from dict of Series:\\n{pd.DataFrame(data)}\",\n",
    "    end=\"\\n\\n\",\n",
    ")\n",
    "\n",
    "# из двумерного массива NumPy\n",
    "data_frame = pd.DataFrame(\n",
    "    np.random.randint(0, 255, size=(2, 2)),\n",
    "    index=[\"row1\", \"row2\"],\n",
    "    columns=[\"col1\", \"col2\"],\n",
    ")\n",
    "print(f\"from 2D-array:\\n{data_frame}\")"
   ]
  },
  {
   "cell_type": "markdown",
   "metadata": {},
   "source": [
    "### Итог\n",
    "\n",
    "|Объект|Изменяемость|Типизированность|Похож на|\n",
    "|---|---|---|---|\n",
    "|Index|Неизменяем|Типизирован|Одномерный массив NumPy или упорядоченное типизированное мультимножество|\n",
    "|Series|Изменяем|Типизированные ключи и значения|Упорядоченный словарь со строго типизированными ключами и значениями или одномерный массив NumPy с обобщенной типизацией|\n",
    "|DataFrame|Изменяем|Типизированные ключи и значения|Упорядоченный словарь элементов Series, со строго типизированными ключами|"
   ]
  },
  {
   "cell_type": "markdown",
   "metadata": {},
   "source": [
    "## Выборка данных из объектов Pandas\n",
    "\n",
    "За счет специфики объекты Pandas обладают специальным функционалом для осуществления выборки данных. В предыдущем разделе мы уже обсудили выборку данных из объекта `pd.Index`, поскольку этот объект наиболее приближен к знакомым нам массивам NumPy. В этом разделе подробнее рассмотрим способы выборки данных и индексации объектов Series и DataFrame.\n",
    "\n",
    "### Series\n",
    "\n",
    "Как было сказано ранее, объект Series во многом похож на словарь. Эта аналогия отчасти поможет нам понять его поведение и паттерны индексации. Подобно словарю объект Series реализует специальные методы `__getitem__` и `__contains__`:"
   ]
  },
  {
   "cell_type": "code",
   "execution_count": null,
   "metadata": {},
   "outputs": [],
   "source": [
    "series = pd.Series(\n",
    "    [1 - 2 ** (i * -1) for i in range(4)],\n",
    "    index=list(\"abcd\"),\n",
    ")\n",
    "\n",
    "print(f\"series:\\n{series}\", end=\"\\n\\n\")\n",
    "\n",
    "print(\n",
    "    f\"__contains__: {'b' in series};\",\n",
    "    f\"__geitem__: {series['c']};\",\n",
    "    sep=\"\\n\",\n",
    ")"
   ]
  },
  {
   "cell_type": "markdown",
   "metadata": {},
   "source": [
    "Так же, как и в случае словаря, мы можем итерироваться по Series, перебирая только ключи, только значения или пары ключ-значение:"
   ]
  },
  {
   "cell_type": "code",
   "execution_count": null,
   "metadata": {},
   "outputs": [],
   "source": [
    "string_data = \", \".join(str(elem) for elem in series)\n",
    "string_keys = \", \".join(str(key) for key in series.keys())\n",
    "string_pairs = \", \".join(str(pair) for pair in series.items())\n",
    "\n",
    "print(\n",
    "    f\"default iterations:\\n{string_data}\",\n",
    "    f\"keys iterations:\\n{string_keys}\",\n",
    "    f\"pairs iterations:\\n{string_pairs}\",\n",
    "    sep=\"\\n\\n\",\n",
    ")"
   ]
  },
  {
   "cell_type": "markdown",
   "metadata": {},
   "source": [
    "Здесь стоит сделать несколько замечаний. Первое: в отличие от словаря в Python для объекта Series итерирование по умолчанию осуществляется по значениям, а не по ключам. Второе замечание, метод `keys()` объекта Series возвращает  объект Index. Последнее замечание: метод `items()`, подобно аналогичному методу словарей, возвращает генератор пар и эквивалентен следующему вызову объекта `zip()`:  "
   ]
  },
  {
   "cell_type": "code",
   "execution_count": null,
   "metadata": {},
   "outputs": [],
   "source": [
    "for pair in zip(series.index, series.values):\n",
    "    print(pair)"
   ]
  },
  {
   "cell_type": "markdown",
   "metadata": {},
   "source": [
    "Помимо выборки данных, мы можем добавлять новые данные в объект Series, используя синтаксис словарей:"
   ]
  },
  {
   "cell_type": "code",
   "execution_count": null,
   "metadata": {},
   "outputs": [],
   "source": [
    "series = pd.Series(\n",
    "    data=list(range(4)),\n",
    "    index=list(\"abcd\"),\n",
    ")\n",
    "print(f\"series\\n{series}\", end=\"\\n\\n\")\n",
    "\n",
    "series[\"e\"] = 5\n",
    "print(f\"series:\\n{series}\", end=\"\\n\\n\")"
   ]
  },
  {
   "cell_type": "markdown",
   "metadata": {},
   "source": [
    "В этом случае Pandas будет дописывать данные в конец последовательности.\n",
    "\n",
    "Теперь рассмотрим индексацию объекта Series в стиле массивов NumPy. В примерах выше мы видели, что объект Series может быть индексирован с помощью целочисленных индексов, или с помощью явных значений индекса, если он был определен. Рассмотрим другие доступные способы индексации:"
   ]
  },
  {
   "cell_type": "code",
   "execution_count": null,
   "metadata": {},
   "outputs": [],
   "source": [
    "series = series = pd.Series(\n",
    "    data=list(range(5)),\n",
    "    index=list(\"abcde\"),\n",
    ")"
   ]
  },
  {
   "cell_type": "code",
   "execution_count": null,
   "metadata": {},
   "outputs": [],
   "source": [
    "print(\n",
    "    # срез с помощью явного индекса\n",
    "    f\"explicit index:\\n{series['b':'d']}\",\n",
    "    # срез с помощью неявного индекса\n",
    "    f\"implicit index:\\n{series[1:3]}\",\n",
    "    # индексация с помощью массива индексов\n",
    "    f\"array of indices:\\n{series[['a', 'c', 'e']]}\",\n",
    "    # индексация с помощью булевой маски\n",
    "    f\"boolean mask index:\\n{series[series < 3]}\",\n",
    "    sep=\"\\n\\n\",\n",
    ")"
   ]
  },
  {
   "cell_type": "markdown",
   "metadata": {},
   "source": [
    "Здесь стоит обратить внимание на разницу между срезом с помощью явного индекса и срезом с помощью неявного индекса. Срез, получаемый посредством явного индекса, включает правую границу срезу. В примере выше элемент под индексом `'d'` был включен в результата. Срез посредством неявного индекса работает аналогично срезам списков в Python, т.е. правая граница среза в результат не включается.\n",
    "\n",
    "#### Индексаторы\n",
    "\n",
    "Возможность использования явного и неявного индекса для выборки данных может нередко может приводить к путанице и ошибкам. Рассмотрим следующий пример: "
   ]
  },
  {
   "cell_type": "code",
   "execution_count": null,
   "metadata": {},
   "outputs": [],
   "source": [
    "series = pd.Series(data=[1, 2, 3], index=[1, 3, 5])\n",
    "print(f\"series:\\n{series}\")"
   ]
  },
  {
   "cell_type": "code",
   "execution_count": null,
   "metadata": {},
   "outputs": [],
   "source": [
    "# Pandas использует явный индекс\n",
    "print(series[1])\n",
    "\n",
    "# Pandas использует неявный индекс\n",
    "print(series[1:3])"
   ]
  },
  {
   "cell_type": "markdown",
   "metadata": {},
   "source": [
    "Как мы видим в примере выше, при использовании целых чисел в качестве явного индекса возникает состояние неопределенности. В каких-то случаях Pandas использует явный индекс для доступа к данным, а в каких-то случаях воспринимает переданные индексы, как неявные индексы, и вместо элементов под индексами 1 и 3 возвращает не то, что мы ожидали. Но как быть? Неужели при использовании целочисленных индексов у нас нет возможности выборки данных с их помощью? Такая возможность есть, и чтобы ею воспользоваться нам придется познакомиться с индексаторами.\n",
    "\n",
    "Не стоит пугаться, индексаторы не представляют из себя ничего сложного, по факту, это всего лишь атрибуты объектов Pandas, которые позволяют явно сообщить интерпретатору, каким именно индексом вы намерены пользоваться: явным или неявным. Начнем знакомство с индексаторами с атрибута `loc`. Атрибут loc позволяет сообщить интерпретатору, что вы намерены использовать явный индекс. Перепишем предыдущий листинг кода с использованием атрибута `loc`.  "
   ]
  },
  {
   "cell_type": "code",
   "execution_count": null,
   "metadata": {},
   "outputs": [],
   "source": [
    "series = pd.Series(data=[1, 2, 3], index=[1, 3, 5])\n",
    "print(f\"series:\\n{series}\")"
   ]
  },
  {
   "cell_type": "code",
   "execution_count": null,
   "metadata": {},
   "outputs": [],
   "source": [
    "print(series.loc[1])\n",
    "print(series.loc[1:3])"
   ]
  },
  {
   "cell_type": "markdown",
   "metadata": {},
   "source": [
    "Как видим теперь и в первом, и во втором вызове данные были выбраны в соответствии с явно указанным индексом. Атрибут `iloc`, напротив, позволяет сообщить интерпретатору, что вы намерены использовать неявный индекс для доступа к данным:"
   ]
  },
  {
   "cell_type": "code",
   "execution_count": null,
   "metadata": {},
   "outputs": [],
   "source": [
    "print(series.iloc[1])\n",
    "print(series.iloc[1:3])"
   ]
  },
  {
   "cell_type": "markdown",
   "metadata": {},
   "source": [
    "Напомним, что одно из положений Дзена Python гласит: \"Лучше явное, чем неявное\". Использование индексаторов позволяет не только избежать ошибок и путаницы, но и сделать ваш код более читабельным и понятным. Поэтому старайтесь обращаться к элементам объектов Pandas с помощью индексаторов и избегайте обращения напрямую через квадратные скобки (тем более в версии библиотеки v2 данное поведение считается устаревшим, и разработчики намерены удалить эту возможность в будущих версиях фреймворка)."
   ]
  },
  {
   "cell_type": "markdown",
   "metadata": {},
   "source": [
    "### DataFrame\n",
    "\n",
    "Способы индексации DataFrame во многом похожи на способы индексации Series. Однако, очевидно, DataFrame обладает своей спецификой при выборке данных. Выше мы уже видели использование синтаксиса словарей при обращении к элементам DataFrame. Помимо этого мы можем обращаться к элемента DataFrame, как к атрибутам объекта: "
   ]
  },
  {
   "cell_type": "code",
   "execution_count": null,
   "metadata": {},
   "outputs": [],
   "source": [
    "populations = pd.Series(\n",
    "    {\n",
    "        \"Moscow\": 13149803,\n",
    "        \"Saint Petersburg\": 5600044,\n",
    "        \"Novosibirsk\": 1635338,\n",
    "        \"Ekaterinburg\": 1539371,\n",
    "        \"Kazan\": 1495066,\n",
    "    }\n",
    ")\n",
    "areas = pd.Series(\n",
    "    {\n",
    "        \"Saint Petersburg\": 1439,\n",
    "        \"Kazan\": 515.8,\n",
    "        \"Novosibirsk\": 502.7,\n",
    "        \"Ekaterinburg\": 1112,\n",
    "        \"Moscow\": 2511,\n",
    "    }\n",
    ")\n",
    "\n",
    "city_stats = pd.DataFrame(\n",
    "    {\n",
    "        \"population\": populations,\n",
    "        \"area\": areas,\n",
    "    }\n",
    ")\n",
    "city_stats"
   ]
  },
  {
   "cell_type": "code",
   "execution_count": null,
   "metadata": {},
   "outputs": [],
   "source": [
    "print(\n",
    "    f\"dict style:\\n{city_stats['population']}\",\n",
    "    f\"attribute style:\\n{city_stats.population}\",\n",
    "    sep=\"\\n\\n\",\n",
    "    end=\"\\n\\n\",\n",
    ")\n",
    "\n",
    "print(city_stats[\"population\"] is city_stats.population)"
   ]
  },
  {
   "cell_type": "markdown",
   "metadata": {},
   "source": [
    "Однако, несмотря на такую возможность, старайтесь избегать обращений к данным в стиле атрибутов объекта, поскольку, в случае конфликта имен между именем столбца и именем атрибута объекта DataFrame вы рискуете получить ошибку. Особенно избегайте использования данного стиля работы с данными DataFrame при создании новых столбцов, чтобы не переопределить существующий атрибут объекта DataFrame. Старайтесь придерживаться синтаксиса в стиле словарей:"
   ]
  },
  {
   "cell_type": "code",
   "execution_count": null,
   "metadata": {},
   "outputs": [],
   "source": [
    "city_stats[\"population density\"] = (\n",
    "    city_stats[\"population\"] / city_stats[\"area\"]\n",
    ")\n",
    "city_stats"
   ]
  },
  {
   "cell_type": "markdown",
   "metadata": {},
   "source": [
    "Зная о пользе индексаторов при работе с объектами Pandas, рассмотрим индексацию объекта DataFrame с их использованием. Итак, с помощью атрибута `iloc`, мы можем осуществлять индексацию с использованием неявных целочисленных индексов. В этом случае выборка данных будет похожа на выборку данных из двумерного массива, за исключением сохранения имен строк и столбцов. Рассмотрим эти утверждения на примере:"
   ]
  },
  {
   "cell_type": "code",
   "execution_count": null,
   "metadata": {},
   "outputs": [],
   "source": [
    "slice_row, slice_col = slice(0, 3), slice(0, 2)\n",
    "\n",
    "array_data = city_stats.values\n",
    "print(f\"array data:\\n{array_data}\", end=\"\\n\\n\")\n",
    "\n",
    "print(f\"array slice:\\n{array_data[slice_row, slice_col]}\", end=\"\\n\\n\")\n",
    "city_stats.iloc[slice_row, slice_col]"
   ]
  },
  {
   "cell_type": "markdown",
   "metadata": {},
   "source": [
    "Того же самого мы могли бы добиться, используя явный индекс вместе с атрибутом `loc`."
   ]
  },
  {
   "cell_type": "code",
   "execution_count": null,
   "metadata": {},
   "outputs": [],
   "source": [
    "city_stats.loc[:\"Moscow\", :\"area\"]"
   ]
  },
  {
   "cell_type": "markdown",
   "metadata": {},
   "source": [
    "Также оба вида индексаторов поддерживают индексацию с помощью булевых масок и массивов значений. Рассмотрим примеры:"
   ]
  },
  {
   "cell_type": "code",
   "execution_count": null,
   "metadata": {},
   "outputs": [],
   "source": [
    "city_stats.loc[city_stats[\"area\"] > 1e3, [\"population\", \"area\"]]"
   ]
  },
  {
   "cell_type": "code",
   "execution_count": null,
   "metadata": {},
   "outputs": [],
   "source": [
    "city_stats.iloc[city_stats.values[:, 1] > 1e3, [0, 1]]"
   ]
  },
  {
   "cell_type": "markdown",
   "metadata": {},
   "source": [
    "В завершении отметим дополнительный синтаксис индексации объекта DataFrame. Во-первых, простые срезы без использования индексаторов относятся к строкам, а не к столбцам: "
   ]
  },
  {
   "cell_type": "code",
   "execution_count": null,
   "metadata": {},
   "outputs": [],
   "source": [
    "city_stats[1:3]"
   ]
  },
  {
   "cell_type": "markdown",
   "metadata": {},
   "source": [
    "Во-вторых использование булевых масок также относится к строкам, а не столбцам:"
   ]
  },
  {
   "cell_type": "code",
   "execution_count": null,
   "metadata": {},
   "outputs": [],
   "source": [
    "city_stats[city_stats[\"area\"] < 1e3]"
   ]
  },
  {
   "cell_type": "markdown",
   "metadata": {},
   "source": [
    "Данный синтаксис плохо стыкуется с изученным поведением объектов Pandas и тем фактом, что первым измерением у DataFrame являются столбцы, а не строки. Однако, поскольку Pandas создавался для удобства манипуляции табличными данными, люди, знакомые с реляционными СУБД и языком запросов SQL, могут найти здесь параллели с выборкой данных из таблиц с использованием условия `WHERE` или ограничения вывода с помощью `LIMIT` и `OFFSET`. "
   ]
  }
 ],
 "metadata": {
  "kernelspec": {
   "display_name": "venv",
   "language": "python",
   "name": "python3"
  },
  "language_info": {
   "codemirror_mode": {
    "name": "ipython",
    "version": 3
   },
   "file_extension": ".py",
   "mimetype": "text/x-python",
   "name": "python",
   "nbconvert_exporter": "python",
   "pygments_lexer": "ipython3",
   "version": "3.11.1"
  }
 },
 "nbformat": 4,
 "nbformat_minor": 2
}
